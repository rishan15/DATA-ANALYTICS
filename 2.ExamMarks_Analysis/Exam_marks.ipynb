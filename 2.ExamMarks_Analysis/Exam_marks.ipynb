{
 "cells": [
  {
   "cell_type": "code",
   "execution_count": 1,
   "id": "5520a650-6c11-4909-96ca-7d0b88821deb",
   "metadata": {},
   "outputs": [],
   "source": [
    "import pandas as pd\n",
    "import matplotlib.pyplot as plt\n",
    "import seaborn as sns\n",
    "df = pd.read_excel(\"MIDMARKS.xlsx\")"
   ]
  },
  {
   "cell_type": "code",
   "execution_count": 2,
   "id": "39e37518-5a4e-43c2-8c16-fb800c738832",
   "metadata": {},
   "outputs": [
    {
     "data": {
      "text/html": [
       "<div>\n",
       "<style scoped>\n",
       "    .dataframe tbody tr th:only-of-type {\n",
       "        vertical-align: middle;\n",
       "    }\n",
       "\n",
       "    .dataframe tbody tr th {\n",
       "        vertical-align: top;\n",
       "    }\n",
       "\n",
       "    .dataframe thead th {\n",
       "        text-align: right;\n",
       "    }\n",
       "</style>\n",
       "<table border=\"1\" class=\"dataframe\">\n",
       "  <thead>\n",
       "    <tr style=\"text-align: right;\">\n",
       "      <th></th>\n",
       "      <th>S.NO</th>\n",
       "      <th>SECTION</th>\n",
       "      <th>DV</th>\n",
       "      <th>M-II</th>\n",
       "      <th>PP</th>\n",
       "      <th>BEEE</th>\n",
       "      <th>FL</th>\n",
       "      <th>FIMS</th>\n",
       "    </tr>\n",
       "  </thead>\n",
       "  <tbody>\n",
       "    <tr>\n",
       "      <th>0</th>\n",
       "      <td>1.0</td>\n",
       "      <td>ALPHA</td>\n",
       "      <td>12</td>\n",
       "      <td>0</td>\n",
       "      <td>17</td>\n",
       "      <td>9</td>\n",
       "      <td>19</td>\n",
       "      <td>15</td>\n",
       "    </tr>\n",
       "    <tr>\n",
       "      <th>1</th>\n",
       "      <td>2.0</td>\n",
       "      <td>ALPHA</td>\n",
       "      <td>19</td>\n",
       "      <td>12</td>\n",
       "      <td>16</td>\n",
       "      <td>16</td>\n",
       "      <td>18</td>\n",
       "      <td>3</td>\n",
       "    </tr>\n",
       "    <tr>\n",
       "      <th>2</th>\n",
       "      <td>3.0</td>\n",
       "      <td>ALPHA</td>\n",
       "      <td>18</td>\n",
       "      <td>14</td>\n",
       "      <td>18</td>\n",
       "      <td>18</td>\n",
       "      <td>18</td>\n",
       "      <td>16</td>\n",
       "    </tr>\n",
       "    <tr>\n",
       "      <th>3</th>\n",
       "      <td>4.0</td>\n",
       "      <td>ALPHA</td>\n",
       "      <td>15</td>\n",
       "      <td>9</td>\n",
       "      <td>19</td>\n",
       "      <td>17</td>\n",
       "      <td>19</td>\n",
       "      <td>15</td>\n",
       "    </tr>\n",
       "    <tr>\n",
       "      <th>4</th>\n",
       "      <td>5.0</td>\n",
       "      <td>ALPHA</td>\n",
       "      <td>18</td>\n",
       "      <td>17</td>\n",
       "      <td>19</td>\n",
       "      <td>19</td>\n",
       "      <td>20</td>\n",
       "      <td>18</td>\n",
       "    </tr>\n",
       "    <tr>\n",
       "      <th>...</th>\n",
       "      <td>...</td>\n",
       "      <td>...</td>\n",
       "      <td>...</td>\n",
       "      <td>...</td>\n",
       "      <td>...</td>\n",
       "      <td>...</td>\n",
       "      <td>...</td>\n",
       "      <td>...</td>\n",
       "    </tr>\n",
       "    <tr>\n",
       "      <th>713</th>\n",
       "      <td>NaN</td>\n",
       "      <td>ZETA</td>\n",
       "      <td>19</td>\n",
       "      <td>8</td>\n",
       "      <td>8</td>\n",
       "      <td>19</td>\n",
       "      <td>17</td>\n",
       "      <td>18</td>\n",
       "    </tr>\n",
       "    <tr>\n",
       "      <th>714</th>\n",
       "      <td>NaN</td>\n",
       "      <td>ZETA</td>\n",
       "      <td>12</td>\n",
       "      <td>1</td>\n",
       "      <td>7</td>\n",
       "      <td>10</td>\n",
       "      <td>20</td>\n",
       "      <td>8</td>\n",
       "    </tr>\n",
       "    <tr>\n",
       "      <th>715</th>\n",
       "      <td>NaN</td>\n",
       "      <td>ZETA</td>\n",
       "      <td>17</td>\n",
       "      <td>6</td>\n",
       "      <td>14</td>\n",
       "      <td>14</td>\n",
       "      <td>17</td>\n",
       "      <td>18</td>\n",
       "    </tr>\n",
       "    <tr>\n",
       "      <th>716</th>\n",
       "      <td>NaN</td>\n",
       "      <td>ZETA</td>\n",
       "      <td>12</td>\n",
       "      <td>1</td>\n",
       "      <td>6</td>\n",
       "      <td>7</td>\n",
       "      <td>15</td>\n",
       "      <td>12</td>\n",
       "    </tr>\n",
       "    <tr>\n",
       "      <th>717</th>\n",
       "      <td>NaN</td>\n",
       "      <td>ZETA</td>\n",
       "      <td>19</td>\n",
       "      <td>14</td>\n",
       "      <td>17</td>\n",
       "      <td>16</td>\n",
       "      <td>20</td>\n",
       "      <td>19</td>\n",
       "    </tr>\n",
       "  </tbody>\n",
       "</table>\n",
       "<p>718 rows × 8 columns</p>\n",
       "</div>"
      ],
      "text/plain": [
       "     S.NO SECTION  DV M-II  PP BEEE  FL FIMS\n",
       "0     1.0   ALPHA  12    0  17    9  19   15\n",
       "1     2.0   ALPHA  19   12  16   16  18    3\n",
       "2     3.0   ALPHA  18   14  18   18  18   16\n",
       "3     4.0   ALPHA  15    9  19   17  19   15\n",
       "4     5.0   ALPHA  18   17  19   19  20   18\n",
       "..    ...     ...  ..  ...  ..  ...  ..  ...\n",
       "713   NaN    ZETA  19    8   8   19  17   18\n",
       "714   NaN    ZETA  12    1   7   10  20    8\n",
       "715   NaN    ZETA  17    6  14   14  17   18\n",
       "716   NaN    ZETA  12    1   6    7  15   12\n",
       "717   NaN    ZETA  19   14  17   16  20   19\n",
       "\n",
       "[718 rows x 8 columns]"
      ]
     },
     "execution_count": 2,
     "metadata": {},
     "output_type": "execute_result"
    }
   ],
   "source": [
    "df"
   ]
  },
  {
   "cell_type": "code",
   "execution_count": 3,
   "id": "ec5cd63e-f2b9-423b-8f57-eec94a3f8907",
   "metadata": {},
   "outputs": [
    {
     "data": {
      "text/plain": [
       "<bound method DataFrame.info of      S.NO SECTION  DV M-II  PP BEEE  FL FIMS\n",
       "0     1.0   ALPHA  12    0  17    9  19   15\n",
       "1     2.0   ALPHA  19   12  16   16  18    3\n",
       "2     3.0   ALPHA  18   14  18   18  18   16\n",
       "3     4.0   ALPHA  15    9  19   17  19   15\n",
       "4     5.0   ALPHA  18   17  19   19  20   18\n",
       "..    ...     ...  ..  ...  ..  ...  ..  ...\n",
       "713   NaN    ZETA  19    8   8   19  17   18\n",
       "714   NaN    ZETA  12    1   7   10  20    8\n",
       "715   NaN    ZETA  17    6  14   14  17   18\n",
       "716   NaN    ZETA  12    1   6    7  15   12\n",
       "717   NaN    ZETA  19   14  17   16  20   19\n",
       "\n",
       "[718 rows x 8 columns]>"
      ]
     },
     "execution_count": 3,
     "metadata": {},
     "output_type": "execute_result"
    }
   ],
   "source": [
    "df.info"
   ]
  },
  {
   "cell_type": "code",
   "execution_count": 4,
   "id": "0ed9c74a",
   "metadata": {},
   "outputs": [
    {
     "data": {
      "text/plain": [
       "S.NO       117\n",
       "SECTION     27\n",
       "DV           2\n",
       "M-II         2\n",
       "PP           2\n",
       "BEEE         2\n",
       "FL           3\n",
       "FIMS         2\n",
       "dtype: int64"
      ]
     },
     "execution_count": 4,
     "metadata": {},
     "output_type": "execute_result"
    }
   ],
   "source": [
    "df.isnull().sum()"
   ]
  },
  {
   "cell_type": "code",
   "execution_count": 5,
   "id": "010e0d81-5ed7-417a-9bbb-4c0ca6a85bce",
   "metadata": {},
   "outputs": [
    {
     "data": {
      "text/html": [
       "<div>\n",
       "<style scoped>\n",
       "    .dataframe tbody tr th:only-of-type {\n",
       "        vertical-align: middle;\n",
       "    }\n",
       "\n",
       "    .dataframe tbody tr th {\n",
       "        vertical-align: top;\n",
       "    }\n",
       "\n",
       "    .dataframe thead th {\n",
       "        text-align: right;\n",
       "    }\n",
       "</style>\n",
       "<table border=\"1\" class=\"dataframe\">\n",
       "  <thead>\n",
       "    <tr style=\"text-align: right;\">\n",
       "      <th></th>\n",
       "      <th>S.NO</th>\n",
       "      <th>SECTION</th>\n",
       "      <th>DV</th>\n",
       "      <th>M-II</th>\n",
       "      <th>PP</th>\n",
       "      <th>BEEE</th>\n",
       "      <th>FL</th>\n",
       "      <th>FIMS</th>\n",
       "    </tr>\n",
       "  </thead>\n",
       "  <tbody>\n",
       "    <tr>\n",
       "      <th>0</th>\n",
       "      <td>1.0</td>\n",
       "      <td>ALPHA</td>\n",
       "      <td>12</td>\n",
       "      <td>0</td>\n",
       "      <td>17</td>\n",
       "      <td>9</td>\n",
       "      <td>19</td>\n",
       "      <td>15</td>\n",
       "    </tr>\n",
       "    <tr>\n",
       "      <th>1</th>\n",
       "      <td>2.0</td>\n",
       "      <td>ALPHA</td>\n",
       "      <td>19</td>\n",
       "      <td>12</td>\n",
       "      <td>16</td>\n",
       "      <td>16</td>\n",
       "      <td>18</td>\n",
       "      <td>3</td>\n",
       "    </tr>\n",
       "    <tr>\n",
       "      <th>2</th>\n",
       "      <td>3.0</td>\n",
       "      <td>ALPHA</td>\n",
       "      <td>18</td>\n",
       "      <td>14</td>\n",
       "      <td>18</td>\n",
       "      <td>18</td>\n",
       "      <td>18</td>\n",
       "      <td>16</td>\n",
       "    </tr>\n",
       "    <tr>\n",
       "      <th>3</th>\n",
       "      <td>4.0</td>\n",
       "      <td>ALPHA</td>\n",
       "      <td>15</td>\n",
       "      <td>9</td>\n",
       "      <td>19</td>\n",
       "      <td>17</td>\n",
       "      <td>19</td>\n",
       "      <td>15</td>\n",
       "    </tr>\n",
       "    <tr>\n",
       "      <th>4</th>\n",
       "      <td>5.0</td>\n",
       "      <td>ALPHA</td>\n",
       "      <td>18</td>\n",
       "      <td>17</td>\n",
       "      <td>19</td>\n",
       "      <td>19</td>\n",
       "      <td>20</td>\n",
       "      <td>18</td>\n",
       "    </tr>\n",
       "    <tr>\n",
       "      <th>...</th>\n",
       "      <td>...</td>\n",
       "      <td>...</td>\n",
       "      <td>...</td>\n",
       "      <td>...</td>\n",
       "      <td>...</td>\n",
       "      <td>...</td>\n",
       "      <td>...</td>\n",
       "      <td>...</td>\n",
       "    </tr>\n",
       "    <tr>\n",
       "      <th>713</th>\n",
       "      <td>NaN</td>\n",
       "      <td>ZETA</td>\n",
       "      <td>19</td>\n",
       "      <td>8</td>\n",
       "      <td>8</td>\n",
       "      <td>19</td>\n",
       "      <td>17</td>\n",
       "      <td>18</td>\n",
       "    </tr>\n",
       "    <tr>\n",
       "      <th>714</th>\n",
       "      <td>NaN</td>\n",
       "      <td>ZETA</td>\n",
       "      <td>12</td>\n",
       "      <td>1</td>\n",
       "      <td>7</td>\n",
       "      <td>10</td>\n",
       "      <td>20</td>\n",
       "      <td>8</td>\n",
       "    </tr>\n",
       "    <tr>\n",
       "      <th>715</th>\n",
       "      <td>NaN</td>\n",
       "      <td>ZETA</td>\n",
       "      <td>17</td>\n",
       "      <td>6</td>\n",
       "      <td>14</td>\n",
       "      <td>14</td>\n",
       "      <td>17</td>\n",
       "      <td>18</td>\n",
       "    </tr>\n",
       "    <tr>\n",
       "      <th>716</th>\n",
       "      <td>NaN</td>\n",
       "      <td>ZETA</td>\n",
       "      <td>12</td>\n",
       "      <td>1</td>\n",
       "      <td>6</td>\n",
       "      <td>7</td>\n",
       "      <td>15</td>\n",
       "      <td>12</td>\n",
       "    </tr>\n",
       "    <tr>\n",
       "      <th>717</th>\n",
       "      <td>NaN</td>\n",
       "      <td>ZETA</td>\n",
       "      <td>19</td>\n",
       "      <td>14</td>\n",
       "      <td>17</td>\n",
       "      <td>16</td>\n",
       "      <td>20</td>\n",
       "      <td>19</td>\n",
       "    </tr>\n",
       "  </tbody>\n",
       "</table>\n",
       "<p>718 rows × 8 columns</p>\n",
       "</div>"
      ],
      "text/plain": [
       "     S.NO SECTION  DV M-II  PP BEEE  FL FIMS\n",
       "0     1.0   ALPHA  12    0  17    9  19   15\n",
       "1     2.0   ALPHA  19   12  16   16  18    3\n",
       "2     3.0   ALPHA  18   14  18   18  18   16\n",
       "3     4.0   ALPHA  15    9  19   17  19   15\n",
       "4     5.0   ALPHA  18   17  19   19  20   18\n",
       "..    ...     ...  ..  ...  ..  ...  ..  ...\n",
       "713   NaN    ZETA  19    8   8   19  17   18\n",
       "714   NaN    ZETA  12    1   7   10  20    8\n",
       "715   NaN    ZETA  17    6  14   14  17   18\n",
       "716   NaN    ZETA  12    1   6    7  15   12\n",
       "717   NaN    ZETA  19   14  17   16  20   19\n",
       "\n",
       "[718 rows x 8 columns]"
      ]
     },
     "execution_count": 5,
     "metadata": {},
     "output_type": "execute_result"
    }
   ],
   "source": [
    "df['SECTION'] = df['SECTION'].fillna('ZETA')\n",
    "df"
   ]
  },
  {
   "cell_type": "code",
   "execution_count": 6,
   "id": "7a886164",
   "metadata": {},
   "outputs": [
    {
     "data": {
      "text/plain": [
       "ZETA       117\n",
       "ALPHA       90\n",
       "BETA        90\n",
       "DELTA       90\n",
       "GAMMA       90\n",
       "OMEGA       90\n",
       "EPSILON     88\n",
       "SIGMA       63\n",
       "Name: SECTION, dtype: int64"
      ]
     },
     "execution_count": 6,
     "metadata": {},
     "output_type": "execute_result"
    }
   ],
   "source": [
    "df['SECTION'].value_counts()"
   ]
  },
  {
   "cell_type": "code",
   "execution_count": 7,
   "id": "db19211f",
   "metadata": {},
   "outputs": [
    {
     "data": {
      "text/plain": [
       "S.NO       117\n",
       "SECTION      0\n",
       "DV           2\n",
       "M-II         2\n",
       "PP           2\n",
       "BEEE         2\n",
       "FL           3\n",
       "FIMS         2\n",
       "dtype: int64"
      ]
     },
     "execution_count": 7,
     "metadata": {},
     "output_type": "execute_result"
    }
   ],
   "source": [
    "df.isnull().sum()"
   ]
  },
  {
   "cell_type": "code",
   "execution_count": 8,
   "id": "910cb545",
   "metadata": {},
   "outputs": [
    {
     "data": {
      "text/plain": [
       "20    103\n",
       "17     79\n",
       "16     74\n",
       "18     69\n",
       "15     63\n",
       "19     60\n",
       "11     43\n",
       "12     41\n",
       "14     41\n",
       "13     30\n",
       "10     26\n",
       "9      20\n",
       "6      12\n",
       "5      11\n",
       "8      11\n",
       "A      10\n",
       "7       8\n",
       "2       6\n",
       "4       4\n",
       "1       3\n",
       "3       1\n",
       "MP      1\n",
       "Name: DV, dtype: int64"
      ]
     },
     "execution_count": 8,
     "metadata": {},
     "output_type": "execute_result"
    }
   ],
   "source": [
    "df['DV'].value_counts()"
   ]
  },
  {
   "cell_type": "code",
   "execution_count": 9,
   "id": "276e972d",
   "metadata": {},
   "outputs": [
    {
     "data": {
      "text/html": [
       "<div>\n",
       "<style scoped>\n",
       "    .dataframe tbody tr th:only-of-type {\n",
       "        vertical-align: middle;\n",
       "    }\n",
       "\n",
       "    .dataframe tbody tr th {\n",
       "        vertical-align: top;\n",
       "    }\n",
       "\n",
       "    .dataframe thead th {\n",
       "        text-align: right;\n",
       "    }\n",
       "</style>\n",
       "<table border=\"1\" class=\"dataframe\">\n",
       "  <thead>\n",
       "    <tr style=\"text-align: right;\">\n",
       "      <th></th>\n",
       "      <th>S.NO</th>\n",
       "      <th>SECTION</th>\n",
       "      <th>DV</th>\n",
       "      <th>M-II</th>\n",
       "      <th>PP</th>\n",
       "      <th>BEEE</th>\n",
       "      <th>FL</th>\n",
       "      <th>FIMS</th>\n",
       "    </tr>\n",
       "  </thead>\n",
       "  <tbody>\n",
       "    <tr>\n",
       "      <th>0</th>\n",
       "      <td>1.0</td>\n",
       "      <td>ALPHA</td>\n",
       "      <td>12</td>\n",
       "      <td>0</td>\n",
       "      <td>17</td>\n",
       "      <td>9</td>\n",
       "      <td>19</td>\n",
       "      <td>15</td>\n",
       "    </tr>\n",
       "    <tr>\n",
       "      <th>1</th>\n",
       "      <td>2.0</td>\n",
       "      <td>ALPHA</td>\n",
       "      <td>19</td>\n",
       "      <td>12</td>\n",
       "      <td>16</td>\n",
       "      <td>16</td>\n",
       "      <td>18</td>\n",
       "      <td>3</td>\n",
       "    </tr>\n",
       "    <tr>\n",
       "      <th>2</th>\n",
       "      <td>3.0</td>\n",
       "      <td>ALPHA</td>\n",
       "      <td>18</td>\n",
       "      <td>14</td>\n",
       "      <td>18</td>\n",
       "      <td>18</td>\n",
       "      <td>18</td>\n",
       "      <td>16</td>\n",
       "    </tr>\n",
       "    <tr>\n",
       "      <th>3</th>\n",
       "      <td>4.0</td>\n",
       "      <td>ALPHA</td>\n",
       "      <td>15</td>\n",
       "      <td>9</td>\n",
       "      <td>19</td>\n",
       "      <td>17</td>\n",
       "      <td>19</td>\n",
       "      <td>15</td>\n",
       "    </tr>\n",
       "    <tr>\n",
       "      <th>4</th>\n",
       "      <td>5.0</td>\n",
       "      <td>ALPHA</td>\n",
       "      <td>18</td>\n",
       "      <td>17</td>\n",
       "      <td>19</td>\n",
       "      <td>19</td>\n",
       "      <td>20</td>\n",
       "      <td>18</td>\n",
       "    </tr>\n",
       "    <tr>\n",
       "      <th>...</th>\n",
       "      <td>...</td>\n",
       "      <td>...</td>\n",
       "      <td>...</td>\n",
       "      <td>...</td>\n",
       "      <td>...</td>\n",
       "      <td>...</td>\n",
       "      <td>...</td>\n",
       "      <td>...</td>\n",
       "    </tr>\n",
       "    <tr>\n",
       "      <th>713</th>\n",
       "      <td>NaN</td>\n",
       "      <td>ZETA</td>\n",
       "      <td>19</td>\n",
       "      <td>8</td>\n",
       "      <td>8</td>\n",
       "      <td>19</td>\n",
       "      <td>17</td>\n",
       "      <td>18</td>\n",
       "    </tr>\n",
       "    <tr>\n",
       "      <th>714</th>\n",
       "      <td>NaN</td>\n",
       "      <td>ZETA</td>\n",
       "      <td>12</td>\n",
       "      <td>1</td>\n",
       "      <td>7</td>\n",
       "      <td>10</td>\n",
       "      <td>20</td>\n",
       "      <td>8</td>\n",
       "    </tr>\n",
       "    <tr>\n",
       "      <th>715</th>\n",
       "      <td>NaN</td>\n",
       "      <td>ZETA</td>\n",
       "      <td>17</td>\n",
       "      <td>6</td>\n",
       "      <td>14</td>\n",
       "      <td>14</td>\n",
       "      <td>17</td>\n",
       "      <td>18</td>\n",
       "    </tr>\n",
       "    <tr>\n",
       "      <th>716</th>\n",
       "      <td>NaN</td>\n",
       "      <td>ZETA</td>\n",
       "      <td>12</td>\n",
       "      <td>1</td>\n",
       "      <td>6</td>\n",
       "      <td>7</td>\n",
       "      <td>15</td>\n",
       "      <td>12</td>\n",
       "    </tr>\n",
       "    <tr>\n",
       "      <th>717</th>\n",
       "      <td>NaN</td>\n",
       "      <td>ZETA</td>\n",
       "      <td>19</td>\n",
       "      <td>14</td>\n",
       "      <td>17</td>\n",
       "      <td>16</td>\n",
       "      <td>20</td>\n",
       "      <td>19</td>\n",
       "    </tr>\n",
       "  </tbody>\n",
       "</table>\n",
       "<p>718 rows × 8 columns</p>\n",
       "</div>"
      ],
      "text/plain": [
       "     S.NO SECTION  DV M-II  PP BEEE  FL FIMS\n",
       "0     1.0   ALPHA  12    0  17    9  19   15\n",
       "1     2.0   ALPHA  19   12  16   16  18    3\n",
       "2     3.0   ALPHA  18   14  18   18  18   16\n",
       "3     4.0   ALPHA  15    9  19   17  19   15\n",
       "4     5.0   ALPHA  18   17  19   19  20   18\n",
       "..    ...     ...  ..  ...  ..  ...  ..  ...\n",
       "713   NaN    ZETA  19    8   8   19  17   18\n",
       "714   NaN    ZETA  12    1   7   10  20    8\n",
       "715   NaN    ZETA  17    6  14   14  17   18\n",
       "716   NaN    ZETA  12    1   6    7  15   12\n",
       "717   NaN    ZETA  19   14  17   16  20   19\n",
       "\n",
       "[718 rows x 8 columns]"
      ]
     },
     "execution_count": 9,
     "metadata": {},
     "output_type": "execute_result"
    }
   ],
   "source": [
    "df['DV'] = df['DV'].replace('MP',0)\n",
    "df"
   ]
  },
  {
   "cell_type": "code",
   "execution_count": 10,
   "id": "10d9b58e",
   "metadata": {},
   "outputs": [
    {
     "data": {
      "text/html": [
       "<div>\n",
       "<style scoped>\n",
       "    .dataframe tbody tr th:only-of-type {\n",
       "        vertical-align: middle;\n",
       "    }\n",
       "\n",
       "    .dataframe tbody tr th {\n",
       "        vertical-align: top;\n",
       "    }\n",
       "\n",
       "    .dataframe thead th {\n",
       "        text-align: right;\n",
       "    }\n",
       "</style>\n",
       "<table border=\"1\" class=\"dataframe\">\n",
       "  <thead>\n",
       "    <tr style=\"text-align: right;\">\n",
       "      <th></th>\n",
       "      <th>S.NO</th>\n",
       "      <th>SECTION</th>\n",
       "      <th>DV</th>\n",
       "      <th>M-II</th>\n",
       "      <th>PP</th>\n",
       "      <th>BEEE</th>\n",
       "      <th>FL</th>\n",
       "      <th>FIMS</th>\n",
       "    </tr>\n",
       "  </thead>\n",
       "  <tbody>\n",
       "    <tr>\n",
       "      <th>0</th>\n",
       "      <td>1.0</td>\n",
       "      <td>ALPHA</td>\n",
       "      <td>12.0</td>\n",
       "      <td>0</td>\n",
       "      <td>17</td>\n",
       "      <td>9</td>\n",
       "      <td>19</td>\n",
       "      <td>15</td>\n",
       "    </tr>\n",
       "    <tr>\n",
       "      <th>1</th>\n",
       "      <td>2.0</td>\n",
       "      <td>ALPHA</td>\n",
       "      <td>19.0</td>\n",
       "      <td>12</td>\n",
       "      <td>16</td>\n",
       "      <td>16</td>\n",
       "      <td>18</td>\n",
       "      <td>3</td>\n",
       "    </tr>\n",
       "    <tr>\n",
       "      <th>2</th>\n",
       "      <td>3.0</td>\n",
       "      <td>ALPHA</td>\n",
       "      <td>18.0</td>\n",
       "      <td>14</td>\n",
       "      <td>18</td>\n",
       "      <td>18</td>\n",
       "      <td>18</td>\n",
       "      <td>16</td>\n",
       "    </tr>\n",
       "    <tr>\n",
       "      <th>3</th>\n",
       "      <td>4.0</td>\n",
       "      <td>ALPHA</td>\n",
       "      <td>15.0</td>\n",
       "      <td>9</td>\n",
       "      <td>19</td>\n",
       "      <td>17</td>\n",
       "      <td>19</td>\n",
       "      <td>15</td>\n",
       "    </tr>\n",
       "    <tr>\n",
       "      <th>4</th>\n",
       "      <td>5.0</td>\n",
       "      <td>ALPHA</td>\n",
       "      <td>18.0</td>\n",
       "      <td>17</td>\n",
       "      <td>19</td>\n",
       "      <td>19</td>\n",
       "      <td>20</td>\n",
       "      <td>18</td>\n",
       "    </tr>\n",
       "    <tr>\n",
       "      <th>...</th>\n",
       "      <td>...</td>\n",
       "      <td>...</td>\n",
       "      <td>...</td>\n",
       "      <td>...</td>\n",
       "      <td>...</td>\n",
       "      <td>...</td>\n",
       "      <td>...</td>\n",
       "      <td>...</td>\n",
       "    </tr>\n",
       "    <tr>\n",
       "      <th>713</th>\n",
       "      <td>NaN</td>\n",
       "      <td>ZETA</td>\n",
       "      <td>19.0</td>\n",
       "      <td>8</td>\n",
       "      <td>8</td>\n",
       "      <td>19</td>\n",
       "      <td>17</td>\n",
       "      <td>18</td>\n",
       "    </tr>\n",
       "    <tr>\n",
       "      <th>714</th>\n",
       "      <td>NaN</td>\n",
       "      <td>ZETA</td>\n",
       "      <td>12.0</td>\n",
       "      <td>1</td>\n",
       "      <td>7</td>\n",
       "      <td>10</td>\n",
       "      <td>20</td>\n",
       "      <td>8</td>\n",
       "    </tr>\n",
       "    <tr>\n",
       "      <th>715</th>\n",
       "      <td>NaN</td>\n",
       "      <td>ZETA</td>\n",
       "      <td>17.0</td>\n",
       "      <td>6</td>\n",
       "      <td>14</td>\n",
       "      <td>14</td>\n",
       "      <td>17</td>\n",
       "      <td>18</td>\n",
       "    </tr>\n",
       "    <tr>\n",
       "      <th>716</th>\n",
       "      <td>NaN</td>\n",
       "      <td>ZETA</td>\n",
       "      <td>12.0</td>\n",
       "      <td>1</td>\n",
       "      <td>6</td>\n",
       "      <td>7</td>\n",
       "      <td>15</td>\n",
       "      <td>12</td>\n",
       "    </tr>\n",
       "    <tr>\n",
       "      <th>717</th>\n",
       "      <td>NaN</td>\n",
       "      <td>ZETA</td>\n",
       "      <td>19.0</td>\n",
       "      <td>14</td>\n",
       "      <td>17</td>\n",
       "      <td>16</td>\n",
       "      <td>20</td>\n",
       "      <td>19</td>\n",
       "    </tr>\n",
       "  </tbody>\n",
       "</table>\n",
       "<p>718 rows × 8 columns</p>\n",
       "</div>"
      ],
      "text/plain": [
       "     S.NO SECTION    DV M-II  PP BEEE  FL FIMS\n",
       "0     1.0   ALPHA  12.0    0  17    9  19   15\n",
       "1     2.0   ALPHA  19.0   12  16   16  18    3\n",
       "2     3.0   ALPHA  18.0   14  18   18  18   16\n",
       "3     4.0   ALPHA  15.0    9  19   17  19   15\n",
       "4     5.0   ALPHA  18.0   17  19   19  20   18\n",
       "..    ...     ...   ...  ...  ..  ...  ..  ...\n",
       "713   NaN    ZETA  19.0    8   8   19  17   18\n",
       "714   NaN    ZETA  12.0    1   7   10  20    8\n",
       "715   NaN    ZETA  17.0    6  14   14  17   18\n",
       "716   NaN    ZETA  12.0    1   6    7  15   12\n",
       "717   NaN    ZETA  19.0   14  17   16  20   19\n",
       "\n",
       "[718 rows x 8 columns]"
      ]
     },
     "execution_count": 10,
     "metadata": {},
     "output_type": "execute_result"
    }
   ],
   "source": [
    "df['DV'] = df['DV'].replace('A',0)\n",
    "df"
   ]
  },
  {
   "cell_type": "code",
   "execution_count": 11,
   "id": "4f434f1d",
   "metadata": {},
   "outputs": [
    {
     "data": {
      "text/plain": [
       "20.0    103\n",
       "17.0     79\n",
       "16.0     74\n",
       "18.0     69\n",
       "15.0     63\n",
       "19.0     60\n",
       "11.0     43\n",
       "12.0     41\n",
       "14.0     41\n",
       "13.0     30\n",
       "10.0     26\n",
       "9.0      20\n",
       "6.0      12\n",
       "5.0      11\n",
       "8.0      11\n",
       "0.0      11\n",
       "7.0       8\n",
       "2.0       6\n",
       "4.0       4\n",
       "1.0       3\n",
       "3.0       1\n",
       "Name: DV, dtype: int64"
      ]
     },
     "execution_count": 11,
     "metadata": {},
     "output_type": "execute_result"
    }
   ],
   "source": [
    "df['DV'].value_counts()"
   ]
  },
  {
   "cell_type": "code",
   "execution_count": 12,
   "id": "4e4e787c",
   "metadata": {},
   "outputs": [],
   "source": [
    "df = df.replace('MP',0)\n",
    "df = df.replace('A',0)\n",
    "df = df.replace('AB',0)\n",
    "df = df.replace('o',0)\n",
    "df = df.replace('II',11)\n",
    "df = df.replace('I',1)"
   ]
  },
  {
   "cell_type": "code",
   "execution_count": 13,
   "id": "0d1238e0",
   "metadata": {},
   "outputs": [
    {
     "data": {
      "text/plain": [
       "20.0    106\n",
       "19.0     50\n",
       "17.0     47\n",
       "11.0     46\n",
       "14.0     44\n",
       "15.0     44\n",
       "18.0     43\n",
       "12.0     41\n",
       "9.0      38\n",
       "16.0     36\n",
       "5.0      27\n",
       "10.0     26\n",
       "6.0      25\n",
       "7.0      24\n",
       "8.0      24\n",
       "13.0     20\n",
       "0.0      20\n",
       "2.0      17\n",
       "3.0      16\n",
       "4.0      13\n",
       "1.0       9\n",
       "Name: PP, dtype: int64"
      ]
     },
     "execution_count": 13,
     "metadata": {},
     "output_type": "execute_result"
    }
   ],
   "source": [
    "df['PP'].value_counts()"
   ]
  },
  {
   "cell_type": "code",
   "execution_count": 14,
   "id": "e0f77604",
   "metadata": {},
   "outputs": [
    {
     "data": {
      "text/plain": [
       "20.0    103\n",
       "17.0     67\n",
       "19.0     60\n",
       "18.0     55\n",
       "16.0     48\n",
       "15.0     41\n",
       "11.0     38\n",
       "9.0      33\n",
       "12.0     31\n",
       "13.0     28\n",
       "14.0     28\n",
       "10.0     26\n",
       "8.0      25\n",
       "0.0      23\n",
       "6.0      22\n",
       "7.0      20\n",
       "3.0      20\n",
       "4.0      18\n",
       "5.0      13\n",
       "2.0      13\n",
       "1.0       4\n",
       "Name: BEEE, dtype: int64"
      ]
     },
     "execution_count": 14,
     "metadata": {},
     "output_type": "execute_result"
    }
   ],
   "source": [
    "df['BEEE'].value_counts()"
   ]
  },
  {
   "cell_type": "code",
   "execution_count": 15,
   "id": "1899dd0b",
   "metadata": {},
   "outputs": [
    {
     "data": {
      "text/plain": [
       "20.0    69\n",
       "0.0     62\n",
       "3.0     51\n",
       "17.0    42\n",
       "8.0     41\n",
       "1.0     37\n",
       "15.0    35\n",
       "11.0    33\n",
       "12.0    31\n",
       "6.0     31\n",
       "4.0     30\n",
       "10.0    29\n",
       "18.0    29\n",
       "5.0     29\n",
       "19.0    28\n",
       "13.0    26\n",
       "9.0     25\n",
       "14.0    25\n",
       "16.0    22\n",
       "7.0     22\n",
       "2.0     19\n",
       "Name: M-II, dtype: int64"
      ]
     },
     "execution_count": 15,
     "metadata": {},
     "output_type": "execute_result"
    }
   ],
   "source": [
    "df['M-II'].value_counts()"
   ]
  },
  {
   "cell_type": "code",
   "execution_count": 16,
   "id": "8ddc8ee7",
   "metadata": {},
   "outputs": [
    {
     "data": {
      "text/plain": [
       "18.0    97\n",
       "16.0    80\n",
       "15.0    77\n",
       "17.0    68\n",
       "19.0    60\n",
       "14.0    53\n",
       "13.0    46\n",
       "9.0     40\n",
       "20.0    32\n",
       "12.0    31\n",
       "11.0    30\n",
       "10.0    24\n",
       "0.0     23\n",
       "8.0     16\n",
       "5.0      9\n",
       "7.0      6\n",
       "6.0      6\n",
       "3.0      6\n",
       "4.0      5\n",
       "1.0      4\n",
       "2.0      3\n",
       "Name: FIMS, dtype: int64"
      ]
     },
     "execution_count": 16,
     "metadata": {},
     "output_type": "execute_result"
    }
   ],
   "source": [
    "df['FIMS'].value_counts()"
   ]
  },
  {
   "cell_type": "code",
   "execution_count": 17,
   "id": "4f030828",
   "metadata": {},
   "outputs": [
    {
     "data": {
      "text/plain": [
       "20.0    189\n",
       "15.0    113\n",
       "18.0     90\n",
       "10.0     77\n",
       "13.0     71\n",
       "19.0     53\n",
       "16.0     21\n",
       "17.0     17\n",
       "14.0     17\n",
       "12.0     13\n",
       "11.0     13\n",
       "0.0      13\n",
       "8.0       9\n",
       "6.0       4\n",
       "9.0       4\n",
       "7.0       3\n",
       "4.0       3\n",
       "1.0       3\n",
       "3.0       1\n",
       "2.0       1\n",
       "Name: FL, dtype: int64"
      ]
     },
     "execution_count": 17,
     "metadata": {},
     "output_type": "execute_result"
    }
   ],
   "source": [
    "df['FL'].value_counts()"
   ]
  },
  {
   "cell_type": "code",
   "execution_count": 18,
   "id": "6f216c02",
   "metadata": {},
   "outputs": [
    {
     "data": {
      "text/plain": [
       "S.NO       117\n",
       "SECTION      0\n",
       "DV           2\n",
       "M-II         2\n",
       "PP           2\n",
       "BEEE         2\n",
       "FL           3\n",
       "FIMS         2\n",
       "dtype: int64"
      ]
     },
     "execution_count": 18,
     "metadata": {},
     "output_type": "execute_result"
    }
   ],
   "source": [
    "df.isnull().sum()"
   ]
  },
  {
   "cell_type": "code",
   "execution_count": 19,
   "id": "fa71735c",
   "metadata": {},
   "outputs": [
    {
     "data": {
      "text/html": [
       "<div>\n",
       "<style scoped>\n",
       "    .dataframe tbody tr th:only-of-type {\n",
       "        vertical-align: middle;\n",
       "    }\n",
       "\n",
       "    .dataframe tbody tr th {\n",
       "        vertical-align: top;\n",
       "    }\n",
       "\n",
       "    .dataframe thead th {\n",
       "        text-align: right;\n",
       "    }\n",
       "</style>\n",
       "<table border=\"1\" class=\"dataframe\">\n",
       "  <thead>\n",
       "    <tr style=\"text-align: right;\">\n",
       "      <th></th>\n",
       "      <th>S.NO</th>\n",
       "      <th>SECTION</th>\n",
       "      <th>DV</th>\n",
       "      <th>M-II</th>\n",
       "      <th>PP</th>\n",
       "      <th>BEEE</th>\n",
       "      <th>FL</th>\n",
       "      <th>FIMS</th>\n",
       "    </tr>\n",
       "  </thead>\n",
       "  <tbody>\n",
       "    <tr>\n",
       "      <th>564</th>\n",
       "      <td>565.0</td>\n",
       "      <td>SIGMA</td>\n",
       "      <td>NaN</td>\n",
       "      <td>NaN</td>\n",
       "      <td>NaN</td>\n",
       "      <td>NaN</td>\n",
       "      <td>NaN</td>\n",
       "      <td>NaN</td>\n",
       "    </tr>\n",
       "    <tr>\n",
       "      <th>601</th>\n",
       "      <td>NaN</td>\n",
       "      <td>ZETA</td>\n",
       "      <td>NaN</td>\n",
       "      <td>NaN</td>\n",
       "      <td>NaN</td>\n",
       "      <td>NaN</td>\n",
       "      <td>NaN</td>\n",
       "      <td>NaN</td>\n",
       "    </tr>\n",
       "  </tbody>\n",
       "</table>\n",
       "</div>"
      ],
      "text/plain": [
       "      S.NO SECTION  DV  M-II  PP  BEEE  FL  FIMS\n",
       "564  565.0   SIGMA NaN   NaN NaN   NaN NaN   NaN\n",
       "601    NaN    ZETA NaN   NaN NaN   NaN NaN   NaN"
      ]
     },
     "execution_count": 19,
     "metadata": {},
     "output_type": "execute_result"
    }
   ],
   "source": [
    "df[df['DV'].isnull()]"
   ]
  },
  {
   "cell_type": "code",
   "execution_count": null,
   "id": "2ddc3822",
   "metadata": {},
   "outputs": [],
   "source": []
  },
  {
   "cell_type": "code",
   "execution_count": 20,
   "id": "afb65223-1325-4c18-a008-6a8f36d88692",
   "metadata": {},
   "outputs": [
    {
     "data": {
      "text/html": [
       "<div>\n",
       "<style scoped>\n",
       "    .dataframe tbody tr th:only-of-type {\n",
       "        vertical-align: middle;\n",
       "    }\n",
       "\n",
       "    .dataframe tbody tr th {\n",
       "        vertical-align: top;\n",
       "    }\n",
       "\n",
       "    .dataframe thead th {\n",
       "        text-align: right;\n",
       "    }\n",
       "</style>\n",
       "<table border=\"1\" class=\"dataframe\">\n",
       "  <thead>\n",
       "    <tr style=\"text-align: right;\">\n",
       "      <th></th>\n",
       "      <th>S.NO</th>\n",
       "      <th>SECTION</th>\n",
       "      <th>DV</th>\n",
       "      <th>M-II</th>\n",
       "      <th>PP</th>\n",
       "      <th>BEEE</th>\n",
       "      <th>FL</th>\n",
       "      <th>FIMS</th>\n",
       "    </tr>\n",
       "  </thead>\n",
       "  <tbody>\n",
       "    <tr>\n",
       "      <th>0</th>\n",
       "      <td>1</td>\n",
       "      <td>ALPHA</td>\n",
       "      <td>12.0</td>\n",
       "      <td>0.0</td>\n",
       "      <td>17.0</td>\n",
       "      <td>9.0</td>\n",
       "      <td>19.0</td>\n",
       "      <td>15.0</td>\n",
       "    </tr>\n",
       "    <tr>\n",
       "      <th>1</th>\n",
       "      <td>2</td>\n",
       "      <td>ALPHA</td>\n",
       "      <td>19.0</td>\n",
       "      <td>12.0</td>\n",
       "      <td>16.0</td>\n",
       "      <td>16.0</td>\n",
       "      <td>18.0</td>\n",
       "      <td>3.0</td>\n",
       "    </tr>\n",
       "    <tr>\n",
       "      <th>2</th>\n",
       "      <td>3</td>\n",
       "      <td>ALPHA</td>\n",
       "      <td>18.0</td>\n",
       "      <td>14.0</td>\n",
       "      <td>18.0</td>\n",
       "      <td>18.0</td>\n",
       "      <td>18.0</td>\n",
       "      <td>16.0</td>\n",
       "    </tr>\n",
       "    <tr>\n",
       "      <th>3</th>\n",
       "      <td>4</td>\n",
       "      <td>ALPHA</td>\n",
       "      <td>15.0</td>\n",
       "      <td>9.0</td>\n",
       "      <td>19.0</td>\n",
       "      <td>17.0</td>\n",
       "      <td>19.0</td>\n",
       "      <td>15.0</td>\n",
       "    </tr>\n",
       "    <tr>\n",
       "      <th>4</th>\n",
       "      <td>5</td>\n",
       "      <td>ALPHA</td>\n",
       "      <td>18.0</td>\n",
       "      <td>17.0</td>\n",
       "      <td>19.0</td>\n",
       "      <td>19.0</td>\n",
       "      <td>20.0</td>\n",
       "      <td>18.0</td>\n",
       "    </tr>\n",
       "    <tr>\n",
       "      <th>...</th>\n",
       "      <td>...</td>\n",
       "      <td>...</td>\n",
       "      <td>...</td>\n",
       "      <td>...</td>\n",
       "      <td>...</td>\n",
       "      <td>...</td>\n",
       "      <td>...</td>\n",
       "      <td>...</td>\n",
       "    </tr>\n",
       "    <tr>\n",
       "      <th>713</th>\n",
       "      <td>714</td>\n",
       "      <td>ZETA</td>\n",
       "      <td>19.0</td>\n",
       "      <td>8.0</td>\n",
       "      <td>8.0</td>\n",
       "      <td>19.0</td>\n",
       "      <td>17.0</td>\n",
       "      <td>18.0</td>\n",
       "    </tr>\n",
       "    <tr>\n",
       "      <th>714</th>\n",
       "      <td>715</td>\n",
       "      <td>ZETA</td>\n",
       "      <td>12.0</td>\n",
       "      <td>1.0</td>\n",
       "      <td>7.0</td>\n",
       "      <td>10.0</td>\n",
       "      <td>20.0</td>\n",
       "      <td>8.0</td>\n",
       "    </tr>\n",
       "    <tr>\n",
       "      <th>715</th>\n",
       "      <td>716</td>\n",
       "      <td>ZETA</td>\n",
       "      <td>17.0</td>\n",
       "      <td>6.0</td>\n",
       "      <td>14.0</td>\n",
       "      <td>14.0</td>\n",
       "      <td>17.0</td>\n",
       "      <td>18.0</td>\n",
       "    </tr>\n",
       "    <tr>\n",
       "      <th>716</th>\n",
       "      <td>717</td>\n",
       "      <td>ZETA</td>\n",
       "      <td>12.0</td>\n",
       "      <td>1.0</td>\n",
       "      <td>6.0</td>\n",
       "      <td>7.0</td>\n",
       "      <td>15.0</td>\n",
       "      <td>12.0</td>\n",
       "    </tr>\n",
       "    <tr>\n",
       "      <th>717</th>\n",
       "      <td>718</td>\n",
       "      <td>ZETA</td>\n",
       "      <td>19.0</td>\n",
       "      <td>14.0</td>\n",
       "      <td>17.0</td>\n",
       "      <td>16.0</td>\n",
       "      <td>20.0</td>\n",
       "      <td>19.0</td>\n",
       "    </tr>\n",
       "  </tbody>\n",
       "</table>\n",
       "<p>718 rows × 8 columns</p>\n",
       "</div>"
      ],
      "text/plain": [
       "     S.NO SECTION    DV  M-II    PP  BEEE    FL  FIMS\n",
       "0       1   ALPHA  12.0   0.0  17.0   9.0  19.0  15.0\n",
       "1       2   ALPHA  19.0  12.0  16.0  16.0  18.0   3.0\n",
       "2       3   ALPHA  18.0  14.0  18.0  18.0  18.0  16.0\n",
       "3       4   ALPHA  15.0   9.0  19.0  17.0  19.0  15.0\n",
       "4       5   ALPHA  18.0  17.0  19.0  19.0  20.0  18.0\n",
       "..    ...     ...   ...   ...   ...   ...   ...   ...\n",
       "713   714    ZETA  19.0   8.0   8.0  19.0  17.0  18.0\n",
       "714   715    ZETA  12.0   1.0   7.0  10.0  20.0   8.0\n",
       "715   716    ZETA  17.0   6.0  14.0  14.0  17.0  18.0\n",
       "716   717    ZETA  12.0   1.0   6.0   7.0  15.0  12.0\n",
       "717   718    ZETA  19.0  14.0  17.0  16.0  20.0  19.0\n",
       "\n",
       "[718 rows x 8 columns]"
      ]
     },
     "execution_count": 20,
     "metadata": {},
     "output_type": "execute_result"
    }
   ],
   "source": [
    "df['S.NO'] = range(1, len(df) + 1)\n",
    "df"
   ]
  },
  {
   "cell_type": "code",
   "execution_count": 21,
   "id": "6059a14e-d2c9-4172-8b3d-80107b08236c",
   "metadata": {},
   "outputs": [],
   "source": [
    "df['FL'] = df['FL'].fillna(0) \n",
    "df=df.dropna()"
   ]
  },
  {
   "cell_type": "code",
   "execution_count": 22,
   "id": "e33591ea-be66-4549-8266-de1e45fb5cac",
   "metadata": {},
   "outputs": [
    {
     "data": {
      "text/html": [
       "<div>\n",
       "<style scoped>\n",
       "    .dataframe tbody tr th:only-of-type {\n",
       "        vertical-align: middle;\n",
       "    }\n",
       "\n",
       "    .dataframe tbody tr th {\n",
       "        vertical-align: top;\n",
       "    }\n",
       "\n",
       "    .dataframe thead th {\n",
       "        text-align: right;\n",
       "    }\n",
       "</style>\n",
       "<table border=\"1\" class=\"dataframe\">\n",
       "  <thead>\n",
       "    <tr style=\"text-align: right;\">\n",
       "      <th></th>\n",
       "      <th>S.NO</th>\n",
       "      <th>SECTION</th>\n",
       "      <th>DV</th>\n",
       "      <th>M-II</th>\n",
       "      <th>PP</th>\n",
       "      <th>BEEE</th>\n",
       "      <th>FL</th>\n",
       "      <th>FIMS</th>\n",
       "    </tr>\n",
       "  </thead>\n",
       "  <tbody>\n",
       "    <tr>\n",
       "      <th>0</th>\n",
       "      <td>1</td>\n",
       "      <td>ALPHA</td>\n",
       "      <td>12.0</td>\n",
       "      <td>0.0</td>\n",
       "      <td>17.0</td>\n",
       "      <td>9.0</td>\n",
       "      <td>19.0</td>\n",
       "      <td>15.0</td>\n",
       "    </tr>\n",
       "    <tr>\n",
       "      <th>1</th>\n",
       "      <td>2</td>\n",
       "      <td>ALPHA</td>\n",
       "      <td>19.0</td>\n",
       "      <td>12.0</td>\n",
       "      <td>16.0</td>\n",
       "      <td>16.0</td>\n",
       "      <td>18.0</td>\n",
       "      <td>3.0</td>\n",
       "    </tr>\n",
       "    <tr>\n",
       "      <th>2</th>\n",
       "      <td>3</td>\n",
       "      <td>ALPHA</td>\n",
       "      <td>18.0</td>\n",
       "      <td>14.0</td>\n",
       "      <td>18.0</td>\n",
       "      <td>18.0</td>\n",
       "      <td>18.0</td>\n",
       "      <td>16.0</td>\n",
       "    </tr>\n",
       "    <tr>\n",
       "      <th>3</th>\n",
       "      <td>4</td>\n",
       "      <td>ALPHA</td>\n",
       "      <td>15.0</td>\n",
       "      <td>9.0</td>\n",
       "      <td>19.0</td>\n",
       "      <td>17.0</td>\n",
       "      <td>19.0</td>\n",
       "      <td>15.0</td>\n",
       "    </tr>\n",
       "    <tr>\n",
       "      <th>4</th>\n",
       "      <td>5</td>\n",
       "      <td>ALPHA</td>\n",
       "      <td>18.0</td>\n",
       "      <td>17.0</td>\n",
       "      <td>19.0</td>\n",
       "      <td>19.0</td>\n",
       "      <td>20.0</td>\n",
       "      <td>18.0</td>\n",
       "    </tr>\n",
       "    <tr>\n",
       "      <th>...</th>\n",
       "      <td>...</td>\n",
       "      <td>...</td>\n",
       "      <td>...</td>\n",
       "      <td>...</td>\n",
       "      <td>...</td>\n",
       "      <td>...</td>\n",
       "      <td>...</td>\n",
       "      <td>...</td>\n",
       "    </tr>\n",
       "    <tr>\n",
       "      <th>713</th>\n",
       "      <td>714</td>\n",
       "      <td>ZETA</td>\n",
       "      <td>19.0</td>\n",
       "      <td>8.0</td>\n",
       "      <td>8.0</td>\n",
       "      <td>19.0</td>\n",
       "      <td>17.0</td>\n",
       "      <td>18.0</td>\n",
       "    </tr>\n",
       "    <tr>\n",
       "      <th>714</th>\n",
       "      <td>715</td>\n",
       "      <td>ZETA</td>\n",
       "      <td>12.0</td>\n",
       "      <td>1.0</td>\n",
       "      <td>7.0</td>\n",
       "      <td>10.0</td>\n",
       "      <td>20.0</td>\n",
       "      <td>8.0</td>\n",
       "    </tr>\n",
       "    <tr>\n",
       "      <th>715</th>\n",
       "      <td>716</td>\n",
       "      <td>ZETA</td>\n",
       "      <td>17.0</td>\n",
       "      <td>6.0</td>\n",
       "      <td>14.0</td>\n",
       "      <td>14.0</td>\n",
       "      <td>17.0</td>\n",
       "      <td>18.0</td>\n",
       "    </tr>\n",
       "    <tr>\n",
       "      <th>716</th>\n",
       "      <td>717</td>\n",
       "      <td>ZETA</td>\n",
       "      <td>12.0</td>\n",
       "      <td>1.0</td>\n",
       "      <td>6.0</td>\n",
       "      <td>7.0</td>\n",
       "      <td>15.0</td>\n",
       "      <td>12.0</td>\n",
       "    </tr>\n",
       "    <tr>\n",
       "      <th>717</th>\n",
       "      <td>718</td>\n",
       "      <td>ZETA</td>\n",
       "      <td>19.0</td>\n",
       "      <td>14.0</td>\n",
       "      <td>17.0</td>\n",
       "      <td>16.0</td>\n",
       "      <td>20.0</td>\n",
       "      <td>19.0</td>\n",
       "    </tr>\n",
       "  </tbody>\n",
       "</table>\n",
       "<p>716 rows × 8 columns</p>\n",
       "</div>"
      ],
      "text/plain": [
       "     S.NO SECTION    DV  M-II    PP  BEEE    FL  FIMS\n",
       "0       1   ALPHA  12.0   0.0  17.0   9.0  19.0  15.0\n",
       "1       2   ALPHA  19.0  12.0  16.0  16.0  18.0   3.0\n",
       "2       3   ALPHA  18.0  14.0  18.0  18.0  18.0  16.0\n",
       "3       4   ALPHA  15.0   9.0  19.0  17.0  19.0  15.0\n",
       "4       5   ALPHA  18.0  17.0  19.0  19.0  20.0  18.0\n",
       "..    ...     ...   ...   ...   ...   ...   ...   ...\n",
       "713   714    ZETA  19.0   8.0   8.0  19.0  17.0  18.0\n",
       "714   715    ZETA  12.0   1.0   7.0  10.0  20.0   8.0\n",
       "715   716    ZETA  17.0   6.0  14.0  14.0  17.0  18.0\n",
       "716   717    ZETA  12.0   1.0   6.0   7.0  15.0  12.0\n",
       "717   718    ZETA  19.0  14.0  17.0  16.0  20.0  19.0\n",
       "\n",
       "[716 rows x 8 columns]"
      ]
     },
     "execution_count": 22,
     "metadata": {},
     "output_type": "execute_result"
    }
   ],
   "source": [
    "df"
   ]
  },
  {
   "cell_type": "code",
   "execution_count": 23,
   "id": "ec51053b-b946-445f-be45-dc4cdc9df60e",
   "metadata": {},
   "outputs": [
    {
     "data": {
      "text/plain": [
       "<bound method DataFrame.info of      S.NO SECTION    DV  M-II    PP  BEEE    FL  FIMS\n",
       "0       1   ALPHA  12.0   0.0  17.0   9.0  19.0  15.0\n",
       "1       2   ALPHA  19.0  12.0  16.0  16.0  18.0   3.0\n",
       "2       3   ALPHA  18.0  14.0  18.0  18.0  18.0  16.0\n",
       "3       4   ALPHA  15.0   9.0  19.0  17.0  19.0  15.0\n",
       "4       5   ALPHA  18.0  17.0  19.0  19.0  20.0  18.0\n",
       "..    ...     ...   ...   ...   ...   ...   ...   ...\n",
       "713   714    ZETA  19.0   8.0   8.0  19.0  17.0  18.0\n",
       "714   715    ZETA  12.0   1.0   7.0  10.0  20.0   8.0\n",
       "715   716    ZETA  17.0   6.0  14.0  14.0  17.0  18.0\n",
       "716   717    ZETA  12.0   1.0   6.0   7.0  15.0  12.0\n",
       "717   718    ZETA  19.0  14.0  17.0  16.0  20.0  19.0\n",
       "\n",
       "[716 rows x 8 columns]>"
      ]
     },
     "execution_count": 23,
     "metadata": {},
     "output_type": "execute_result"
    }
   ],
   "source": [
    "df.info"
   ]
  },
  {
   "cell_type": "code",
   "execution_count": 24,
   "id": "d0bca475-860c-4a2e-b4d5-7b0160e376a8",
   "metadata": {},
   "outputs": [
    {
     "data": {
      "text/plain": [
       "S.NO       0\n",
       "SECTION    0\n",
       "DV         0\n",
       "M-II       0\n",
       "PP         0\n",
       "BEEE       0\n",
       "FL         0\n",
       "FIMS       0\n",
       "dtype: int64"
      ]
     },
     "execution_count": 24,
     "metadata": {},
     "output_type": "execute_result"
    }
   ],
   "source": [
    "df.isnull().sum()"
   ]
  },
  {
   "cell_type": "markdown",
   "id": "65a4957f-37de-43bb-a1e5-6b19e6db453b",
   "metadata": {},
   "source": [
    "# Mid Marks Data"
   ]
  },
  {
   "cell_type": "code",
   "execution_count": 25,
   "id": "26dbe859-5be0-434d-b60d-667fba0ca3f3",
   "metadata": {},
   "outputs": [
    {
     "name": "stderr",
     "output_type": "stream",
     "text": [
      "C:\\Users\\khsbh\\AppData\\Local\\Temp\\ipykernel_27028\\82161249.py:1: SettingWithCopyWarning: \n",
      "A value is trying to be set on a copy of a slice from a DataFrame\n",
      "\n",
      "See the caveats in the documentation: https://pandas.pydata.org/pandas-docs/stable/user_guide/indexing.html#returning-a-view-versus-a-copy\n",
      "  df.rename(columns={'M-II':'M2'},inplace=True)\n"
     ]
    }
   ],
   "source": [
    "df.rename(columns={'M-II':'M2'},inplace=True) "
   ]
  },
  {
   "cell_type": "markdown",
   "id": "41a4be97-5b1e-43e9-9509-8b25fcea774f",
   "metadata": {},
   "source": [
    "# Renaming M-II as M2"
   ]
  },
  {
   "cell_type": "code",
   "execution_count": 26,
   "id": "80ca99ce-48be-427e-812d-59e51d6be3fc",
   "metadata": {},
   "outputs": [
    {
     "data": {
      "text/html": [
       "<div>\n",
       "<style scoped>\n",
       "    .dataframe tbody tr th:only-of-type {\n",
       "        vertical-align: middle;\n",
       "    }\n",
       "\n",
       "    .dataframe tbody tr th {\n",
       "        vertical-align: top;\n",
       "    }\n",
       "\n",
       "    .dataframe thead th {\n",
       "        text-align: right;\n",
       "    }\n",
       "</style>\n",
       "<table border=\"1\" class=\"dataframe\">\n",
       "  <thead>\n",
       "    <tr style=\"text-align: right;\">\n",
       "      <th></th>\n",
       "      <th>S.NO</th>\n",
       "      <th>SECTION</th>\n",
       "      <th>DV</th>\n",
       "      <th>M2</th>\n",
       "      <th>PP</th>\n",
       "      <th>BEEE</th>\n",
       "      <th>FL</th>\n",
       "      <th>FIMS</th>\n",
       "    </tr>\n",
       "  </thead>\n",
       "  <tbody>\n",
       "    <tr>\n",
       "      <th>0</th>\n",
       "      <td>1</td>\n",
       "      <td>ALPHA</td>\n",
       "      <td>12.0</td>\n",
       "      <td>0.0</td>\n",
       "      <td>17.0</td>\n",
       "      <td>9.0</td>\n",
       "      <td>19.0</td>\n",
       "      <td>15.0</td>\n",
       "    </tr>\n",
       "    <tr>\n",
       "      <th>1</th>\n",
       "      <td>2</td>\n",
       "      <td>ALPHA</td>\n",
       "      <td>19.0</td>\n",
       "      <td>12.0</td>\n",
       "      <td>16.0</td>\n",
       "      <td>16.0</td>\n",
       "      <td>18.0</td>\n",
       "      <td>3.0</td>\n",
       "    </tr>\n",
       "    <tr>\n",
       "      <th>2</th>\n",
       "      <td>3</td>\n",
       "      <td>ALPHA</td>\n",
       "      <td>18.0</td>\n",
       "      <td>14.0</td>\n",
       "      <td>18.0</td>\n",
       "      <td>18.0</td>\n",
       "      <td>18.0</td>\n",
       "      <td>16.0</td>\n",
       "    </tr>\n",
       "    <tr>\n",
       "      <th>3</th>\n",
       "      <td>4</td>\n",
       "      <td>ALPHA</td>\n",
       "      <td>15.0</td>\n",
       "      <td>9.0</td>\n",
       "      <td>19.0</td>\n",
       "      <td>17.0</td>\n",
       "      <td>19.0</td>\n",
       "      <td>15.0</td>\n",
       "    </tr>\n",
       "    <tr>\n",
       "      <th>4</th>\n",
       "      <td>5</td>\n",
       "      <td>ALPHA</td>\n",
       "      <td>18.0</td>\n",
       "      <td>17.0</td>\n",
       "      <td>19.0</td>\n",
       "      <td>19.0</td>\n",
       "      <td>20.0</td>\n",
       "      <td>18.0</td>\n",
       "    </tr>\n",
       "    <tr>\n",
       "      <th>...</th>\n",
       "      <td>...</td>\n",
       "      <td>...</td>\n",
       "      <td>...</td>\n",
       "      <td>...</td>\n",
       "      <td>...</td>\n",
       "      <td>...</td>\n",
       "      <td>...</td>\n",
       "      <td>...</td>\n",
       "    </tr>\n",
       "    <tr>\n",
       "      <th>713</th>\n",
       "      <td>714</td>\n",
       "      <td>ZETA</td>\n",
       "      <td>19.0</td>\n",
       "      <td>8.0</td>\n",
       "      <td>8.0</td>\n",
       "      <td>19.0</td>\n",
       "      <td>17.0</td>\n",
       "      <td>18.0</td>\n",
       "    </tr>\n",
       "    <tr>\n",
       "      <th>714</th>\n",
       "      <td>715</td>\n",
       "      <td>ZETA</td>\n",
       "      <td>12.0</td>\n",
       "      <td>1.0</td>\n",
       "      <td>7.0</td>\n",
       "      <td>10.0</td>\n",
       "      <td>20.0</td>\n",
       "      <td>8.0</td>\n",
       "    </tr>\n",
       "    <tr>\n",
       "      <th>715</th>\n",
       "      <td>716</td>\n",
       "      <td>ZETA</td>\n",
       "      <td>17.0</td>\n",
       "      <td>6.0</td>\n",
       "      <td>14.0</td>\n",
       "      <td>14.0</td>\n",
       "      <td>17.0</td>\n",
       "      <td>18.0</td>\n",
       "    </tr>\n",
       "    <tr>\n",
       "      <th>716</th>\n",
       "      <td>717</td>\n",
       "      <td>ZETA</td>\n",
       "      <td>12.0</td>\n",
       "      <td>1.0</td>\n",
       "      <td>6.0</td>\n",
       "      <td>7.0</td>\n",
       "      <td>15.0</td>\n",
       "      <td>12.0</td>\n",
       "    </tr>\n",
       "    <tr>\n",
       "      <th>717</th>\n",
       "      <td>718</td>\n",
       "      <td>ZETA</td>\n",
       "      <td>19.0</td>\n",
       "      <td>14.0</td>\n",
       "      <td>17.0</td>\n",
       "      <td>16.0</td>\n",
       "      <td>20.0</td>\n",
       "      <td>19.0</td>\n",
       "    </tr>\n",
       "  </tbody>\n",
       "</table>\n",
       "<p>716 rows × 8 columns</p>\n",
       "</div>"
      ],
      "text/plain": [
       "     S.NO SECTION    DV    M2    PP  BEEE    FL  FIMS\n",
       "0       1   ALPHA  12.0   0.0  17.0   9.0  19.0  15.0\n",
       "1       2   ALPHA  19.0  12.0  16.0  16.0  18.0   3.0\n",
       "2       3   ALPHA  18.0  14.0  18.0  18.0  18.0  16.0\n",
       "3       4   ALPHA  15.0   9.0  19.0  17.0  19.0  15.0\n",
       "4       5   ALPHA  18.0  17.0  19.0  19.0  20.0  18.0\n",
       "..    ...     ...   ...   ...   ...   ...   ...   ...\n",
       "713   714    ZETA  19.0   8.0   8.0  19.0  17.0  18.0\n",
       "714   715    ZETA  12.0   1.0   7.0  10.0  20.0   8.0\n",
       "715   716    ZETA  17.0   6.0  14.0  14.0  17.0  18.0\n",
       "716   717    ZETA  12.0   1.0   6.0   7.0  15.0  12.0\n",
       "717   718    ZETA  19.0  14.0  17.0  16.0  20.0  19.0\n",
       "\n",
       "[716 rows x 8 columns]"
      ]
     },
     "execution_count": 26,
     "metadata": {},
     "output_type": "execute_result"
    }
   ],
   "source": [
    "df"
   ]
  },
  {
   "cell_type": "code",
   "execution_count": 27,
   "id": "ff78e40e-5efd-4938-baca-59182d38c6ce",
   "metadata": {},
   "outputs": [
    {
     "name": "stderr",
     "output_type": "stream",
     "text": [
      "C:\\Users\\khsbh\\AppData\\Local\\Temp\\ipykernel_27028\\1473698917.py:1: SettingWithCopyWarning: \n",
      "A value is trying to be set on a copy of a slice from a DataFrame.\n",
      "Try using .loc[row_indexer,col_indexer] = value instead\n",
      "\n",
      "See the caveats in the documentation: https://pandas.pydata.org/pandas-docs/stable/user_guide/indexing.html#returning-a-view-versus-a-copy\n",
      "  df['DV'] = pd.to_numeric(df['DV'], errors='coerce')\n",
      "C:\\Users\\khsbh\\AppData\\Local\\Temp\\ipykernel_27028\\1473698917.py:2: SettingWithCopyWarning: \n",
      "A value is trying to be set on a copy of a slice from a DataFrame.\n",
      "Try using .loc[row_indexer,col_indexer] = value instead\n",
      "\n",
      "See the caveats in the documentation: https://pandas.pydata.org/pandas-docs/stable/user_guide/indexing.html#returning-a-view-versus-a-copy\n",
      "  df['M2'] = pd.to_numeric(df['M2'], errors='coerce')\n",
      "C:\\Users\\khsbh\\AppData\\Local\\Temp\\ipykernel_27028\\1473698917.py:3: SettingWithCopyWarning: \n",
      "A value is trying to be set on a copy of a slice from a DataFrame.\n",
      "Try using .loc[row_indexer,col_indexer] = value instead\n",
      "\n",
      "See the caveats in the documentation: https://pandas.pydata.org/pandas-docs/stable/user_guide/indexing.html#returning-a-view-versus-a-copy\n",
      "  df['PP'] = pd.to_numeric(df['PP'], errors='coerce')\n",
      "C:\\Users\\khsbh\\AppData\\Local\\Temp\\ipykernel_27028\\1473698917.py:4: SettingWithCopyWarning: \n",
      "A value is trying to be set on a copy of a slice from a DataFrame.\n",
      "Try using .loc[row_indexer,col_indexer] = value instead\n",
      "\n",
      "See the caveats in the documentation: https://pandas.pydata.org/pandas-docs/stable/user_guide/indexing.html#returning-a-view-versus-a-copy\n",
      "  df['BEEE'] = pd.to_numeric(df['BEEE'], errors='coerce')\n",
      "C:\\Users\\khsbh\\AppData\\Local\\Temp\\ipykernel_27028\\1473698917.py:5: SettingWithCopyWarning: \n",
      "A value is trying to be set on a copy of a slice from a DataFrame.\n",
      "Try using .loc[row_indexer,col_indexer] = value instead\n",
      "\n",
      "See the caveats in the documentation: https://pandas.pydata.org/pandas-docs/stable/user_guide/indexing.html#returning-a-view-versus-a-copy\n",
      "  df['FL'] = pd.to_numeric(df['FL'], errors='coerce')\n",
      "C:\\Users\\khsbh\\AppData\\Local\\Temp\\ipykernel_27028\\1473698917.py:6: SettingWithCopyWarning: \n",
      "A value is trying to be set on a copy of a slice from a DataFrame.\n",
      "Try using .loc[row_indexer,col_indexer] = value instead\n",
      "\n",
      "See the caveats in the documentation: https://pandas.pydata.org/pandas-docs/stable/user_guide/indexing.html#returning-a-view-versus-a-copy\n",
      "  df['FIMS'] = pd.to_numeric(df['FIMS'], errors='coerce')\n",
      "C:\\Users\\khsbh\\AppData\\Local\\Temp\\ipykernel_27028\\1473698917.py:7: SettingWithCopyWarning: \n",
      "A value is trying to be set on a copy of a slice from a DataFrame\n",
      "\n",
      "See the caveats in the documentation: https://pandas.pydata.org/pandas-docs/stable/user_guide/indexing.html#returning-a-view-versus-a-copy\n",
      "  df.fillna(0, inplace=True)\n"
     ]
    }
   ],
   "source": [
    "df['DV'] = pd.to_numeric(df['DV'], errors='coerce')\n",
    "df['M2'] = pd.to_numeric(df['M2'], errors='coerce')\n",
    "df['PP'] = pd.to_numeric(df['PP'], errors='coerce')\n",
    "df['BEEE'] = pd.to_numeric(df['BEEE'], errors='coerce')\n",
    "df['FL'] = pd.to_numeric(df['FL'], errors='coerce')\n",
    "df['FIMS'] = pd.to_numeric(df['FIMS'], errors='coerce')\n",
    "df.fillna(0, inplace=True)"
   ]
  },
  {
   "cell_type": "code",
   "execution_count": 28,
   "id": "3319f929",
   "metadata": {},
   "outputs": [
    {
     "data": {
      "image/png": "[encoded data removed]",
      "text/plain": [
       "<Figure size 800x500 with 1 Axes>"
      ]
     },
     "metadata": {},
     "output_type": "display_data"
    }
   ],
   "source": [
    "plt.figure(figsize=(8, 5))\n",
    "sns.histplot(df[\"DV\"].dropna(), bins=10, kde=True, color=\"blue\")\n",
    "plt.title(\"Histogram of DV Marks\")\n",
    "plt.xlabel(\"Marks\")\n",
    "plt.ylabel(\"Frequency\")\n",
    "plt.show()\n"
   ]
  },
  {
   "cell_type": "code",
   "execution_count": 29,
   "id": "b505f29c",
   "metadata": {},
   "outputs": [
    {
     "data": {
      "image/png": "[encoded data removed]",
      "text/plain": [
       "<Figure size 1000x600 with 1 Axes>"
      ]
     },
     "metadata": {},
     "output_type": "display_data"
    }
   ],
   "source": [
    "plt.figure(figsize=(10, 6))\n",
    "sns.boxplot(data=df, palette=\"Set2\")\n",
    "plt.xticks(rotation=45)\n",
    "plt.title(\"Box Plot of Subject Marks\")\n",
    "plt.show()"
   ]
  },
  {
   "cell_type": "code",
   "execution_count": 30,
   "id": "f6e8f488",
   "metadata": {},
   "outputs": [
    {
     "name": "stderr",
     "output_type": "stream",
     "text": [
      "C:\\Users\\khsbh\\AppData\\Local\\Temp\\ipykernel_27028\\1549838106.py:2: FutureWarning: The default value of numeric_only in DataFrame.mean is deprecated. In a future version, it will default to False. In addition, specifying 'numeric_only=None' is deprecated. Select only valid columns or specify the value of numeric_only to silence this warning.\n",
      "  avg_marks = df.mean()\n"
     ]
    },
    {
     "data": {
      "image/png": "[encoded data removed]",
      "text/plain": [
       "<Figure size 1000x600 with 1 Axes>"
      ]
     },
     "metadata": {},
     "output_type": "display_data"
    }
   ],
   "source": [
    "plt.figure(figsize=(10, 6))\n",
    "avg_marks = df.mean()\n",
    "sns.barplot(x=avg_marks.index, y=avg_marks.values, palette=\"viridis\")\n",
    "plt.xticks(rotation=45)\n",
    "plt.title(\"Average Marks per Subject\")\n",
    "plt.show()"
   ]
  },
  {
   "cell_type": "code",
   "execution_count": 31,
   "id": "977eb558",
   "metadata": {},
   "outputs": [
    {
     "data": {
      "image/png": "[encoded data removed]",
      "text/plain": [
       "<Figure size 800x500 with 1 Axes>"
      ]
     },
     "metadata": {},
     "output_type": "display_data"
    }
   ],
   "source": [
    "plt.figure(figsize=(8, 5))\n",
    "sns.scatterplot(x=df[\"DV\"], y=df[\"M2\"], color=\"red\")\n",
    "plt.xlabel(\"DV Marks\")\n",
    "plt.ylabel(\"M2 Marks\")\n",
    "plt.title(\"DV vs M2 Marks\")\n",
    "plt.show()"
   ]
  },
  {
   "cell_type": "code",
   "execution_count": null,
   "id": "19d4104e",
   "metadata": {},
   "outputs": [],
   "source": []
  },
  {
   "cell_type": "code",
   "execution_count": 32,
   "id": "5ea065b4",
   "metadata": {},
   "outputs": [
    {
     "data": {
      "image/png": "[encoded data removed]",
      "text/plain": [
       "<Figure size 1000x600 with 1 Axes>"
      ]
     },
     "metadata": {},
     "output_type": "display_data"
    }
   ],
   "source": [
    "plt.figure(figsize=(10, 6))\n",
    "sns.violinplot(data=df.iloc[:, 2:], palette=\"pastel\")\n",
    "plt.xticks(rotation=45)\n",
    "plt.title(\"Violin Plot of Subject Marks\")\n",
    "plt.show()\n"
   ]
  },
  {
   "cell_type": "code",
   "execution_count": 33,
   "id": "80f3d6c0",
   "metadata": {},
   "outputs": [
    {
     "data": {
      "image/png": "[encoded data removed]",
      "text/plain": [
       "<Figure size 1000x500 with 1 Axes>"
      ]
     },
     "metadata": {},
     "output_type": "display_data"
    }
   ],
   "source": [
    "plt.figure(figsize=(10, 5))\n",
    "plt.plot(df[\"S.NO\"], df[\"BEEE\"], marker=\"o\", linestyle=\"-\", color=\"purple\")\n",
    "plt.xlabel(\"Student Serial Number\")\n",
    "plt.ylabel(\"BEEE Marks\")\n",
    "plt.title(\"Trend of BEEE Marks Across Students\")\n",
    "plt.show()"
   ]
  },
  {
   "cell_type": "code",
   "execution_count": null,
   "id": "b5ba5156",
   "metadata": {},
   "outputs": [],
   "source": []
  },
  {
   "cell_type": "code",
   "execution_count": null,
   "id": "97df7312",
   "metadata": {},
   "outputs": [],
   "source": []
  },
  {
   "cell_type": "markdown",
   "id": "6f2c6383-e5ec-4588-8756-fd36e24017c5",
   "metadata": {},
   "source": [
    "# Converting into numeric"
   ]
  },
  {
   "cell_type": "code",
   "execution_count": 35,
   "id": "241ce3fe-4d08-4afb-8987-5395258c2b74",
   "metadata": {},
   "outputs": [
    {
     "name": "stderr",
     "output_type": "stream",
     "text": [
      "C:\\Users\\khsbh\\AppData\\Local\\Temp\\ipykernel_27028\\4026183173.py:1: SettingWithCopyWarning: \n",
      "A value is trying to be set on a copy of a slice from a DataFrame.\n",
      "Try using .loc[row_indexer,col_indexer] = value instead\n",
      "\n",
      "See the caveats in the documentation: https://pandas.pydata.org/pandas-docs/stable/user_guide/indexing.html#returning-a-view-versus-a-copy\n",
      "  df['Total'] = df['DV'] + df['M2'] + df['PP'] + df['BEEE'] + df['FL'] + df['FIMS']\n"
     ]
    },
    {
     "data": {
      "text/html": [
       "<div>\n",
       "<style scoped>\n",
       "    .dataframe tbody tr th:only-of-type {\n",
       "        vertical-align: middle;\n",
       "    }\n",
       "\n",
       "    .dataframe tbody tr th {\n",
       "        vertical-align: top;\n",
       "    }\n",
       "\n",
       "    .dataframe thead th {\n",
       "        text-align: right;\n",
       "    }\n",
       "</style>\n",
       "<table border=\"1\" class=\"dataframe\">\n",
       "  <thead>\n",
       "    <tr style=\"text-align: right;\">\n",
       "      <th></th>\n",
       "      <th>S.NO</th>\n",
       "      <th>SECTION</th>\n",
       "      <th>DV</th>\n",
       "      <th>M2</th>\n",
       "      <th>PP</th>\n",
       "      <th>BEEE</th>\n",
       "      <th>FL</th>\n",
       "      <th>FIMS</th>\n",
       "      <th>Total</th>\n",
       "    </tr>\n",
       "  </thead>\n",
       "  <tbody>\n",
       "    <tr>\n",
       "      <th>0</th>\n",
       "      <td>1</td>\n",
       "      <td>ALPHA</td>\n",
       "      <td>12.0</td>\n",
       "      <td>0.0</td>\n",
       "      <td>17.0</td>\n",
       "      <td>9.0</td>\n",
       "      <td>19.0</td>\n",
       "      <td>15.0</td>\n",
       "      <td>72.0</td>\n",
       "    </tr>\n",
       "    <tr>\n",
       "      <th>1</th>\n",
       "      <td>2</td>\n",
       "      <td>ALPHA</td>\n",
       "      <td>19.0</td>\n",
       "      <td>12.0</td>\n",
       "      <td>16.0</td>\n",
       "      <td>16.0</td>\n",
       "      <td>18.0</td>\n",
       "      <td>3.0</td>\n",
       "      <td>84.0</td>\n",
       "    </tr>\n",
       "    <tr>\n",
       "      <th>2</th>\n",
       "      <td>3</td>\n",
       "      <td>ALPHA</td>\n",
       "      <td>18.0</td>\n",
       "      <td>14.0</td>\n",
       "      <td>18.0</td>\n",
       "      <td>18.0</td>\n",
       "      <td>18.0</td>\n",
       "      <td>16.0</td>\n",
       "      <td>102.0</td>\n",
       "    </tr>\n",
       "    <tr>\n",
       "      <th>3</th>\n",
       "      <td>4</td>\n",
       "      <td>ALPHA</td>\n",
       "      <td>15.0</td>\n",
       "      <td>9.0</td>\n",
       "      <td>19.0</td>\n",
       "      <td>17.0</td>\n",
       "      <td>19.0</td>\n",
       "      <td>15.0</td>\n",
       "      <td>94.0</td>\n",
       "    </tr>\n",
       "    <tr>\n",
       "      <th>4</th>\n",
       "      <td>5</td>\n",
       "      <td>ALPHA</td>\n",
       "      <td>18.0</td>\n",
       "      <td>17.0</td>\n",
       "      <td>19.0</td>\n",
       "      <td>19.0</td>\n",
       "      <td>20.0</td>\n",
       "      <td>18.0</td>\n",
       "      <td>111.0</td>\n",
       "    </tr>\n",
       "    <tr>\n",
       "      <th>...</th>\n",
       "      <td>...</td>\n",
       "      <td>...</td>\n",
       "      <td>...</td>\n",
       "      <td>...</td>\n",
       "      <td>...</td>\n",
       "      <td>...</td>\n",
       "      <td>...</td>\n",
       "      <td>...</td>\n",
       "      <td>...</td>\n",
       "    </tr>\n",
       "    <tr>\n",
       "      <th>713</th>\n",
       "      <td>714</td>\n",
       "      <td>ZETA</td>\n",
       "      <td>19.0</td>\n",
       "      <td>8.0</td>\n",
       "      <td>8.0</td>\n",
       "      <td>19.0</td>\n",
       "      <td>17.0</td>\n",
       "      <td>18.0</td>\n",
       "      <td>89.0</td>\n",
       "    </tr>\n",
       "    <tr>\n",
       "      <th>714</th>\n",
       "      <td>715</td>\n",
       "      <td>ZETA</td>\n",
       "      <td>12.0</td>\n",
       "      <td>1.0</td>\n",
       "      <td>7.0</td>\n",
       "      <td>10.0</td>\n",
       "      <td>20.0</td>\n",
       "      <td>8.0</td>\n",
       "      <td>58.0</td>\n",
       "    </tr>\n",
       "    <tr>\n",
       "      <th>715</th>\n",
       "      <td>716</td>\n",
       "      <td>ZETA</td>\n",
       "      <td>17.0</td>\n",
       "      <td>6.0</td>\n",
       "      <td>14.0</td>\n",
       "      <td>14.0</td>\n",
       "      <td>17.0</td>\n",
       "      <td>18.0</td>\n",
       "      <td>86.0</td>\n",
       "    </tr>\n",
       "    <tr>\n",
       "      <th>716</th>\n",
       "      <td>717</td>\n",
       "      <td>ZETA</td>\n",
       "      <td>12.0</td>\n",
       "      <td>1.0</td>\n",
       "      <td>6.0</td>\n",
       "      <td>7.0</td>\n",
       "      <td>15.0</td>\n",
       "      <td>12.0</td>\n",
       "      <td>53.0</td>\n",
       "    </tr>\n",
       "    <tr>\n",
       "      <th>717</th>\n",
       "      <td>718</td>\n",
       "      <td>ZETA</td>\n",
       "      <td>19.0</td>\n",
       "      <td>14.0</td>\n",
       "      <td>17.0</td>\n",
       "      <td>16.0</td>\n",
       "      <td>20.0</td>\n",
       "      <td>19.0</td>\n",
       "      <td>105.0</td>\n",
       "    </tr>\n",
       "  </tbody>\n",
       "</table>\n",
       "<p>716 rows × 9 columns</p>\n",
       "</div>"
      ],
      "text/plain": [
       "     S.NO SECTION    DV    M2    PP  BEEE    FL  FIMS  Total\n",
       "0       1   ALPHA  12.0   0.0  17.0   9.0  19.0  15.0   72.0\n",
       "1       2   ALPHA  19.0  12.0  16.0  16.0  18.0   3.0   84.0\n",
       "2       3   ALPHA  18.0  14.0  18.0  18.0  18.0  16.0  102.0\n",
       "3       4   ALPHA  15.0   9.0  19.0  17.0  19.0  15.0   94.0\n",
       "4       5   ALPHA  18.0  17.0  19.0  19.0  20.0  18.0  111.0\n",
       "..    ...     ...   ...   ...   ...   ...   ...   ...    ...\n",
       "713   714    ZETA  19.0   8.0   8.0  19.0  17.0  18.0   89.0\n",
       "714   715    ZETA  12.0   1.0   7.0  10.0  20.0   8.0   58.0\n",
       "715   716    ZETA  17.0   6.0  14.0  14.0  17.0  18.0   86.0\n",
       "716   717    ZETA  12.0   1.0   6.0   7.0  15.0  12.0   53.0\n",
       "717   718    ZETA  19.0  14.0  17.0  16.0  20.0  19.0  105.0\n",
       "\n",
       "[716 rows x 9 columns]"
      ]
     },
     "execution_count": 35,
     "metadata": {},
     "output_type": "execute_result"
    }
   ],
   "source": [
    "df['Total'] = df['DV'] + df['M2'] + df['PP'] + df['BEEE'] + df['FL'] + df['FIMS']\n",
    "\n",
    "df\n"
   ]
  },
  {
   "cell_type": "markdown",
   "id": "3aac1667-aedc-4699-a6f1-22c99d8e5312",
   "metadata": {},
   "source": [
    "# Calculating total"
   ]
  },
  {
   "cell_type": "code",
   "execution_count": null,
   "id": "95bb8c4d-c377-4ccd-9a45-a50c84d59c11",
   "metadata": {},
   "outputs": [],
   "source": [
    "df[\"Percentage\"] = (df['Total']/120)*100"
   ]
  },
  {
   "cell_type": "code",
   "execution_count": null,
   "id": "b3dbd0d6-38ba-4983-a6b1-1975ae1cf25b",
   "metadata": {},
   "outputs": [],
   "source": [
    "df"
   ]
  },
  {
   "cell_type": "code",
   "execution_count": null,
   "id": "cc8f5cd8-92a2-4158-a7fa-bfc70289928a",
   "metadata": {},
   "outputs": [],
   "source": [
    "df['Percentage'] = df['Percentage'].round().astype(int)\n",
    "df"
   ]
  },
  {
   "cell_type": "code",
   "execution_count": null,
   "id": "f4863948-2e70-46c3-8811-eaf5516346db",
   "metadata": {},
   "outputs": [],
   "source": [
    "def assign_grade(percentage):\n",
    "    if percentage >= 90:\n",
    "        return 'A'\n",
    "    elif percentage >= 80:\n",
    "        return 'B+'\n",
    "    elif percentage >= 70:\n",
    "        return 'B'\n",
    "    elif percentage >= 60:\n",
    "        return 'C+'\n",
    "    elif percentage >=50:\n",
    "        return 'C'\n",
    "    elif percentage >=40:\n",
    "        return 'D'\n",
    "    else:\n",
    "        return 'F'\n",
    "df['Grade'] = df['Percentage'].apply(assign_grade)\n",
    "df"
   ]
  },
  {
   "cell_type": "code",
   "execution_count": null,
   "id": "3b67d1fb-28fd-4f39-ac98-bf0f7e5488fa",
   "metadata": {},
   "outputs": [],
   "source": [
    "df.plot()\n",
    "plt.show()"
   ]
  },
  {
   "cell_type": "code",
   "execution_count": null,
   "id": "9fd26071-0a98-4f62-ae47-411770a190ac",
   "metadata": {},
   "outputs": [],
   "source": [
    "plt.figure(figsize=[8, 4])\n",
    "plt.hist(df['Total'], color='cyan', bins=10, edgecolor='black')\n",
    "plt.title(\"Distribution of Total Marks\")\n",
    "plt.xlabel(\"Total Marks\")\n",
    "plt.ylabel(\"Number of Students\")\n",
    "plt.show()"
   ]
  },
  {
   "cell_type": "markdown",
   "id": "d98868ea-1b71-4e6b-9e58-5f35ee2eeb79",
   "metadata": {},
   "source": [
    "# Distribution of Total marks in Histogram"
   ]
  },
  {
   "cell_type": "code",
   "execution_count": null,
   "id": "393e31b5-429c-4e64-8e64-f473cff27811",
   "metadata": {},
   "outputs": [],
   "source": [
    "df['DV'] = pd.to_numeric(df['DV'], errors='coerce')\n",
    "df = df.dropna(subset=['DV'])\n",
    "plt.hist(df['DV'], bins=10, color='red', edgecolor='black')\n",
    "plt.title(\"Distribution of DV Marks\")\n",
    "plt.xlabel(\"DV Marks\")\n",
    "plt.ylabel(\"Number of Students\")\n",
    "plt.show()\n"
   ]
  },
  {
   "cell_type": "markdown",
   "id": "d70fae33-1a6a-4268-8447-ce89020bee45",
   "metadata": {},
   "source": [
    "# Distribution of DV Marks"
   ]
  },
  {
   "cell_type": "code",
   "execution_count": null,
   "id": "94937c46-b793-4859-8a5f-78190f8d7c4d",
   "metadata": {},
   "outputs": [],
   "source": [
    "df['M2'] = pd.to_numeric(df['M2'], errors='coerce')\n",
    "df = df.dropna(subset=['M2'])\n",
    "plt.hist(df['M2'], bins=10, color='orange', edgecolor='black')\n",
    "plt.title(\"Distribution of M2 Marks\")\n",
    "plt.xlabel(\"M2 Marks\")\n",
    "plt.ylabel(\"Number of Students\")\n",
    "plt.show()"
   ]
  },
  {
   "cell_type": "markdown",
   "id": "7e2133fa-5449-4657-b39c-a464af739e22",
   "metadata": {},
   "source": [
    "# Distribution of M2 Marks"
   ]
  },
  {
   "cell_type": "code",
   "execution_count": null,
   "id": "7516f76b-8970-4160-8a1a-075fbc563df8",
   "metadata": {},
   "outputs": [],
   "source": [
    "df['PP'] = pd.to_numeric(df['PP'], errors='coerce')\n",
    "df['BEEE'] = pd.to_numeric(df['BEEE'], errors='coerce')\n",
    "df_clean = df.dropna(subset=['PP', 'BEEE'])\n",
    "\n",
    "plt.figure(figsize=[10, 6])\n",
    "\n",
    "plt.subplot(1, 2, 1)\n",
    "plt.hist(df_clean['PP'], bins=10, color='red', edgecolor='black')\n",
    "plt.title(\"Distribution of PP Marks\")\n",
    "plt.xlabel(\"PP Marks\")\n",
    "plt.ylabel(\"Number of Students\")\n",
    "\n",
    "plt.subplot(1, 2, 2)\n",
    "plt.hist(df_clean['BEEE'], bins=10, color='yellow', edgecolor='black')\n",
    "plt.title(\"Distribution of BEEE Marks\")\n",
    "plt.xlabel(\"BEEE Marks\")\n",
    "plt.ylabel(\"Number of Students\")\n",
    "\n",
    "plt.tight_layout()\n",
    "plt.show()\n"
   ]
  },
  {
   "cell_type": "markdown",
   "id": "f26bd922-73f4-4a87-9f8e-60ef47795fc7",
   "metadata": {},
   "source": [
    "# Comparision of PP marks and BEEE marks"
   ]
  },
  {
   "cell_type": "code",
   "execution_count": null,
   "id": "662a9dc8-4de6-4582-8ed8-a53649c64cc3",
   "metadata": {},
   "outputs": [],
   "source": [
    "filtered_df = df[df['PP'] > 10]\n",
    "plt.hist(filtered_df['PP'], bins=10, color='blue', edgecolor='black')\n",
    "plt.title(\"PP Marks above 15 \")\n",
    "plt.xlabel(\"PP Marks\")\n",
    "plt.ylabel(\"Number of Students\")\n",
    "plt.show()\n"
   ]
  },
  {
   "cell_type": "markdown",
   "id": "b1fc5854-c8a4-466b-96e8-69949707d31e",
   "metadata": {},
   "source": [
    "# PP Marks who got more than 10"
   ]
  },
  {
   "cell_type": "code",
   "execution_count": null,
   "id": "3d53278f-81a0-48f2-9267-3fdff5db3612",
   "metadata": {},
   "outputs": [],
   "source": [
    "filtered_df = df[df['M2'] < 10]\n",
    "\n",
    "plt.hist(filtered_df['M2'], bins=10, color='brown', edgecolor='black')\n",
    "plt.title(\"M2 Marks less than 15\")\n",
    "plt.xlabel(\"M2 Marks\")\n",
    "plt.ylabel(\"Number of Students\")\n",
    "plt.show()\n"
   ]
  },
  {
   "cell_type": "markdown",
   "id": "c0fd08ca-5a51-42b7-84a7-17bd6bdfa1fc",
   "metadata": {},
   "source": [
    "# M2 Marks Who got less than 10"
   ]
  },
  {
   "cell_type": "code",
   "execution_count": null,
   "id": "186041f3-7521-4317-bba1-b31210474436",
   "metadata": {},
   "outputs": [],
   "source": [
    "plt.scatter(df['FL'], df['FIMS'], c=df['FL'], cmap='viridis', alpha=0.7)\n",
    "plt.title(\"FL Marks vs FIMS Marks\")\n",
    "plt.xlabel(\"FL Marks\")\n",
    "plt.ylabel(\"FIMS Marks\")\n",
    "plt.colorbar(label='FL Marks')\n",
    "plt.show()\n"
   ]
  },
  {
   "cell_type": "markdown",
   "id": "8630e02d-f0eb-4f30-9390-8c88f23a65bb",
   "metadata": {},
   "source": [
    "# Scatter plot of FL VS FIMS Marks"
   ]
  },
  {
   "cell_type": "code",
   "execution_count": null,
   "id": "55b5f2a2-618c-4b66-a7a7-3dea720d7b29",
   "metadata": {},
   "outputs": [],
   "source": [
    "filtered_df = df[df['PP'] < 10]\n",
    "\n",
    "plt.scatter(filtered_df.index, filtered_df['PP'], alpha=0.7, color='green')\n",
    "plt.title(\"Less than 10 Marks in PP\")\n",
    "plt.xlabel(\"Student Index\")\n",
    "plt.ylabel(\"PP Marks\")\n",
    "plt.show()\n"
   ]
  },
  {
   "cell_type": "markdown",
   "id": "8f5625b5-a141-4d4e-bb31-2b4a57ad3af7",
   "metadata": {},
   "source": [
    "# Scoring of PP Marks Less than 10"
   ]
  },
  {
   "cell_type": "code",
   "execution_count": null,
   "id": "29b8eac5-e63a-4e08-ba51-5964078f8c96",
   "metadata": {},
   "outputs": [],
   "source": [
    "filtered_df = df[df['BEEE'] < 10]\n",
    "\n",
    "plt.scatter(filtered_df.index, filtered_df['PP'], alpha=0.7, color='blue')\n",
    "plt.title(\"More than 10 Marks in BEEE\")\n",
    "plt.xlabel(\"Student Index\")\n",
    "plt.ylabel(\"BEEE Marks\")\n",
    "plt.show()\n"
   ]
  },
  {
   "cell_type": "markdown",
   "id": "f0206bd3-8adc-449d-abce-726709fb2e03",
   "metadata": {},
   "source": [
    "# Scoring of BEEE Marks More than 15"
   ]
  },
  {
   "cell_type": "code",
   "execution_count": null,
   "id": "8bc0d073-4ab8-450b-b0c0-ff2f7eec04e1",
   "metadata": {},
   "outputs": [],
   "source": [
    "filtered_df = df[df['DV'] > 10]\n",
    "plt.scatter(filtered_df.index, filtered_df['DV'], alpha=0.7, color='pink')\n",
    "plt.title(\"Students Marks 10 in DV \")\n",
    "plt.xlabel(\"Student Index\")\n",
    "plt.ylabel(\"DV Marks\")\n",
    "plt.show()"
   ]
  },
  {
   "cell_type": "markdown",
   "id": "f143b5a5-a674-4a60-a8d2-0883667c81eb",
   "metadata": {},
   "source": [
    "# Students who scored 10 marks in DV"
   ]
  },
  {
   "cell_type": "code",
   "execution_count": null,
   "id": "1bf8d8ce-117a-4b1a-a1f5-fbeb8f6279ef",
   "metadata": {},
   "outputs": [],
   "source": [
    "filtered_df = df[df['M2'] == 0]\n",
    "plt.scatter(filtered_df.index, filtered_df['DV'], alpha=0.7, color='grey')\n",
    "plt.title(\"Students Marks 0 in M2 \")\n",
    "plt.xlabel(\"Student Index\")\n",
    "plt.ylabel(\"M2 Marks\")\n",
    "plt.show()"
   ]
  },
  {
   "cell_type": "markdown",
   "id": "4048f7a2-b368-41ba-a31e-6990eba81bfe",
   "metadata": {},
   "source": [
    "# Students who scored 0 Marks in M2"
   ]
  },
  {
   "cell_type": "code",
   "execution_count": null,
   "id": "d05bd7c6-3c84-4b23-bb85-8cdd23d538c7",
   "metadata": {},
   "outputs": [],
   "source": [
    "filtered_df = df[(df['PP'] == 0) & (df['BEEE'] == 0)]\n",
    "plt.scatter(filtered_df.index, filtered_df['PP'], alpha=0.7, color='brown')\n",
    "plt.title(\"Students Marks 0 in PP and BEEE\")\n",
    "plt.xlabel(\"Student Index\")\n",
    "plt.ylabel(\"PP Marks\")\n",
    "plt.show()\n"
   ]
  },
  {
   "cell_type": "markdown",
   "id": "b08046fb-41a9-4209-a330-a797cd54a3a1",
   "metadata": {},
   "source": [
    "# Students scored 0 Marks in PP and BEEE"
   ]
  },
  {
   "cell_type": "code",
   "execution_count": null,
   "id": "f792bb32-c8fa-4cd3-8cee-013ed0a0ea42",
   "metadata": {},
   "outputs": [],
   "source": [
    "plt.figure(figsize=(5, 6))\n",
    "sns.boxplot(data=df['DV'], color='lightblue')\n",
    "plt.title(\"Box Plot of DV Marks\")\n",
    "plt.ylabel(\"Marks\")\n",
    "plt.show()\n"
   ]
  },
  {
   "cell_type": "markdown",
   "id": "306412ee-828a-46e0-b0d3-fa0b2c242413",
   "metadata": {},
   "source": [
    "# Box plot for the DV Marks"
   ]
  },
  {
   "cell_type": "code",
   "execution_count": null,
   "id": "c189d27c-3bc7-4807-a20f-5d760fa07880",
   "metadata": {},
   "outputs": [],
   "source": [
    "plt.figure(figsize=(8, 6))\n",
    "sns.boxplot(data=df['BEEE'], color='lightgreen')\n",
    "plt.title(\"Box Plot of BEEE Marks\")\n",
    "plt.ylabel(\"Marks\")\n",
    "plt.show()"
   ]
  },
  {
   "cell_type": "markdown",
   "id": "726cf71a-84f1-41d8-98e5-4ddbeca08b08",
   "metadata": {},
   "source": [
    "# Box plot of BEEE Marks"
   ]
  },
  {
   "cell_type": "code",
   "execution_count": null,
   "id": "79ec3b40-63dd-481e-b2a0-c2639e7268c1",
   "metadata": {},
   "outputs": [],
   "source": [
    "plt.figure(figsize=(8, 6))\n",
    "sns.boxplot(data=df['FL'], color='lightpink')\n",
    "plt.title(\"Box Plot of FL Marks\")\n",
    "plt.ylabel(\"Marks\")\n",
    "plt.show()"
   ]
  },
  {
   "cell_type": "markdown",
   "id": "9b66b46f-183d-43f9-868e-3e27bdc5762d",
   "metadata": {},
   "source": [
    "# Box plot for the FL Marks"
   ]
  },
  {
   "cell_type": "code",
   "execution_count": null,
   "id": "8d8a40c9-f2f5-421b-aff3-c164b88c9f67",
   "metadata": {},
   "outputs": [],
   "source": [
    "a=df.loc[(df['Total'] >= 75) & (df['Total'] <= 80)]\n",
    "a=a.reset_index()\n",
    "a"
   ]
  },
  {
   "cell_type": "markdown",
   "id": "c908b999-e500-46d8-a5d1-7d9314068a0c",
   "metadata": {},
   "source": [
    "# Total marks between 75 to 80"
   ]
  },
  {
   "cell_type": "code",
   "execution_count": null,
   "id": "ca431b45-5031-4681-9159-9d67d3fa579b",
   "metadata": {},
   "outputs": [],
   "source": [
    "a.plot.line(x='DV',y='Total',color='red')\n",
    "plt.title(\"Line Graph of DV\")\n",
    "plt.ylabel(\"Total\")\n",
    "plt.show()"
   ]
  },
  {
   "cell_type": "markdown",
   "id": "d25e5cd9-b05a-4c7a-9e52-3928237b104f",
   "metadata": {},
   "source": [
    "# Lineplot for total and DV"
   ]
  },
  {
   "cell_type": "code",
   "execution_count": null,
   "id": "4ff628aa-f3b0-42b4-9fcb-72044abfe3e0",
   "metadata": {},
   "outputs": [],
   "source": [
    "a.plot.line(x='FIMS',y='Total',color='red')\n",
    "plt.title(\"Line Graph of FIMS\")\n",
    "plt.ylabel(\"Total\")\n",
    "plt.show()"
   ]
  },
  {
   "cell_type": "markdown",
   "id": "f77651a6-a284-41d1-8afc-2a95ca485a14",
   "metadata": {},
   "source": [
    "# Lineplot for total and FIMS"
   ]
  },
  {
   "cell_type": "code",
   "execution_count": null,
   "id": "ad48c772-113d-4c9c-8507-d0dacbdf45a5",
   "metadata": {},
   "outputs": [],
   "source": [
    "a.plot.line(x='M2',y='Total',color='blue')\n",
    "plt.title(\"Line Graph of M2\")\n",
    "plt.ylabel(\"Total\")\n",
    "plt.show()"
   ]
  },
  {
   "cell_type": "markdown",
   "id": "c4de1646-3915-4205-830f-231402aca8a0",
   "metadata": {},
   "source": [
    "# Lineplot for total and M2"
   ]
  },
  {
   "cell_type": "code",
   "execution_count": null,
   "id": "4b7c8063-f692-49ba-bc1e-f573575f3c73",
   "metadata": {},
   "outputs": [],
   "source": [
    "a.plot.line(x='PP',y='Total',color='blue')\n",
    "plt.title(\"Line Graph of PP\")\n",
    "plt.ylabel(\"Total\")\n",
    "plt.show()"
   ]
  },
  {
   "cell_type": "markdown",
   "id": "3903f061-4030-413b-911c-fb724e8c0094",
   "metadata": {},
   "source": [
    "# Lineplot for total and M2"
   ]
  },
  {
   "cell_type": "code",
   "execution_count": null,
   "id": "5e4bbf1b-a892-4ad9-bf49-162ecd748031",
   "metadata": {},
   "outputs": [],
   "source": [
    "a.plot.line(x='BEEE',y='Total',color='blue')\n",
    "plt.title(\"Line Graph of BEEE\")\n",
    "plt.ylabel(\"Total\")\n",
    "plt.show()"
   ]
  },
  {
   "cell_type": "markdown",
   "id": "305fecbc-4349-46e0-a67e-544281c62f16",
   "metadata": {},
   "source": [
    "# Lineplot for total and BEEE"
   ]
  },
  {
   "cell_type": "code",
   "execution_count": null,
   "id": "f5e169bb-557a-40c8-ba1e-57a4387a2941",
   "metadata": {},
   "outputs": [],
   "source": [
    "b=df.loc[(df['Total'] >= 115) & (df['Total'] <= 120)]\n",
    "b=b.reset_index()\n",
    "b"
   ]
  },
  {
   "cell_type": "markdown",
   "id": "a758739d-b253-45bf-954e-a1aa4c6a38ee",
   "metadata": {},
   "source": [
    "# students between 115 and 120"
   ]
  },
  {
   "cell_type": "code",
   "execution_count": null,
   "id": "301c1ed8-280a-4f7e-aba4-d5d93229e6cd",
   "metadata": {},
   "outputs": [],
   "source": [
    "b['DV'].plot(kind='pie',subplots=True,figsize=(8,8))\n",
    "plt.title(\"Pie Chart of DV\")"
   ]
  },
  {
   "cell_type": "markdown",
   "id": "cc0aed78-1a3a-452c-84c8-21a4368c0810",
   "metadata": {},
   "source": [
    "# PIE Chart of DV for 32 students"
   ]
  },
  {
   "cell_type": "code",
   "execution_count": null,
   "id": "4d8c4347-fb5a-4e87-828d-c6e7e7cb8b7b",
   "metadata": {},
   "outputs": [],
   "source": [
    "b['BEEE'].plot(kind='pie',subplots=True,figsize=(8,8))\n",
    "plt.title(\"Pie Chart of BEEE\")"
   ]
  },
  {
   "cell_type": "markdown",
   "id": "9c0049d2-39a7-4828-b311-467236d26e90",
   "metadata": {},
   "source": [
    "# PIE Chart of BEEE for 32 students"
   ]
  },
  {
   "cell_type": "code",
   "execution_count": null,
   "id": "ea3e2c67-bca7-4276-878a-bb3f219050e3",
   "metadata": {},
   "outputs": [],
   "source": [
    "b['PP'].plot(kind='pie',subplots=True,figsize=(8,8))\n",
    "plt.title(\"Pie Chart of PP\")"
   ]
  },
  {
   "cell_type": "markdown",
   "id": "7a92c047-35bf-4ed6-93d9-175033bcf60d",
   "metadata": {},
   "source": [
    "# PIE Chart of PP for 32 students"
   ]
  },
  {
   "cell_type": "code",
   "execution_count": null,
   "id": "f337e091-5d50-45e9-bd1e-835ebd1afb3c",
   "metadata": {},
   "outputs": [],
   "source": [
    "df.sort_values('Total').tail(10)"
   ]
  },
  {
   "cell_type": "code",
   "execution_count": null,
   "id": "ce008e15-b682-4f8a-907d-132f815dc9a1",
   "metadata": {},
   "outputs": [],
   "source": [
    "df.sort_values('DV').tail(20)"
   ]
  },
  {
   "cell_type": "code",
   "execution_count": null,
   "id": "d4fb710b-aa26-490a-82fc-c6b87e1fc768",
   "metadata": {},
   "outputs": [],
   "source": [
    "df.sort_values('DV').head(50)"
   ]
  },
  {
   "cell_type": "code",
   "execution_count": null,
   "id": "9a43cf17-f6d1-4c07-816a-e6e6c3a1cc03",
   "metadata": {
    "scrolled": true
   },
   "outputs": [],
   "source": [
    "h = df[\n",
    "    (df['DV'] < 10.0) |\n",
    "    (df['PP'] < 10.0) |\n",
    "    (df['M2'] < 10.0) |\n",
    "    (df['BEEE'] < 10.0) |\n",
    "    (df['FL'] < 10.0) |\n",
    "    (df['FIMS'] < 10.0)\n",
    "]\n",
    "h['SECTION'].value_counts()\n"
   ]
  },
  {
   "cell_type": "code",
   "execution_count": null,
   "id": "817891a2-3b00-48f3-afbe-abcf2e277863",
   "metadata": {
    "scrolled": true
   },
   "outputs": [],
   "source": [
    "df['backlogs'] = (df[['DV', 'M2', 'PP', 'BEEE', 'FL', 'FIMS']] < 10).sum(axis=1)\n",
    "df"
   ]
  },
  {
   "cell_type": "code",
   "execution_count": null,
   "id": "08f62ca9-5017-41cb-b8a8-67efebe1e63e",
   "metadata": {},
   "outputs": [],
   "source": [
    "j=df.sort_values('backlogs')\n",
    "j"
   ]
  },
  {
   "cell_type": "code",
   "execution_count": null,
   "id": "464fbc6b-ec10-4186-a7cb-f085bff849c9",
   "metadata": {},
   "outputs": [],
   "source": [
    "j.value_counts('backlogs')"
   ]
  },
  {
   "cell_type": "code",
   "execution_count": null,
   "id": "a6001d45-a2a6-4f2c-bda3-b36da3917598",
   "metadata": {},
   "outputs": [],
   "source": [
    "df[\"BC\"]=None"
   ]
  },
  {
   "cell_type": "code",
   "execution_count": null,
   "id": "59dc5cad-fd09-47b7-ab4a-de302ca2ad37",
   "metadata": {},
   "outputs": [],
   "source": [
    "df"
   ]
  },
  {
   "cell_type": "code",
   "execution_count": null,
   "id": "c1bdc37d-27fb-4542-b580-89d4d5dc2d92",
   "metadata": {},
   "outputs": [],
   "source": [
    "j.value_counts('backlogs')"
   ]
  },
  {
   "cell_type": "markdown",
   "id": "5081d47e-2db5-4ea4-96a5-1b794d08205e",
   "metadata": {},
   "source": [
    "# Backlogs couunt"
   ]
  },
  {
   "cell_type": "code",
   "execution_count": null,
   "id": "58d217b2-47f3-4703-af26-a4de7c4ffbbc",
   "metadata": {},
   "outputs": [],
   "source": [
    "a = df[df['BC']==6]\n",
    "a.value_counts('SECTION')"
   ]
  },
  {
   "cell_type": "markdown",
   "id": "9a727a7a-b211-44b9-b3c5-b3841fa8220a",
   "metadata": {},
   "source": [
    "# Students belongs to section who got 6 backlogs"
   ]
  },
  {
   "cell_type": "markdown",
   "id": "cca5eac7-8630-488d-9305-8e43fef15dc0",
   "metadata": {},
   "source": [
    "# backlogs count for each subject in each section"
   ]
  },
  {
   "cell_type": "code",
   "execution_count": null,
   "id": "8da02206-2533-45c5-a99d-03ced19aba51",
   "metadata": {},
   "outputs": [],
   "source": [
    "a = df[df['DV']<10]\n",
    "a.value_counts('SECTION').sum()\n",
    "a = df[df['DV']<10]\n",
    "a.value_counts('SECTION')"
   ]
  },
  {
   "cell_type": "code",
   "execution_count": null,
   "id": "0691db92-5734-4c7e-9686-6bef7e6de8b6",
   "metadata": {},
   "outputs": [],
   "source": [
    "a = df[df['M2']<10]\n",
    "a.value_counts('SECTION').sum()\n",
    "a = df[df['M2']<10]\n",
    "a.value_counts('SECTION')"
   ]
  },
  {
   "cell_type": "code",
   "execution_count": null,
   "id": "27dad106-3021-4f47-81f1-56ca0ebd6311",
   "metadata": {},
   "outputs": [],
   "source": [
    "a = df[df['PP']<10]\n",
    "a.value_counts('SECTION').sum()\n",
    "a = df[df['PP']<10]\n",
    "a.value_counts('SECTION')"
   ]
  },
  {
   "cell_type": "code",
   "execution_count": null,
   "id": "f3570878-8915-444a-a760-bd52b709d0c4",
   "metadata": {},
   "outputs": [],
   "source": [
    "a = df[df['BEEE']<10]\n",
    "a.value_counts('SECTION').sum()\n",
    "a = df[df['BEEE']<10]\n",
    "a.value_counts('SECTION')"
   ]
  },
  {
   "cell_type": "code",
   "execution_count": null,
   "id": "7364b00a-4216-4b03-a441-293ba882ebb5",
   "metadata": {},
   "outputs": [],
   "source": [
    "a = df[df['FL']<10]\n",
    "a.value_counts('SECTION').sum()\n",
    "a = df[df['FL']<10]\n",
    "a.value_counts('SECTION')"
   ]
  },
  {
   "cell_type": "code",
   "execution_count": null,
   "id": "0f1ce273-b7ac-40a4-bf5c-fc59590dcfb8",
   "metadata": {},
   "outputs": [],
   "source": [
    "a = df[df['FIMS']<10]\n",
    "a.value_counts('SECTION').sum()\n",
    "a = df[df['FIMS']<10]\n",
    "a.value_counts('SECTION')"
   ]
  },
  {
   "cell_type": "code",
   "execution_count": null,
   "id": "687c03b6-46d0-4f96-ac0e-39d8b8943edc",
   "metadata": {},
   "outputs": [],
   "source": [
    "sns.countplot(x='backlogs', data=df)\n",
    "plt.title('Count of Students by Backlogs')\n",
    "plt.xlabel('Number of Backlogs')\n",
    "plt.ylabel('Number of Students')\n",
    "plt.show()\n"
   ]
  },
  {
   "cell_type": "markdown",
   "id": "35e79445-1ca2-4162-bb9d-cf14898ab518",
   "metadata": {},
   "source": [
    "# Bar chart for backlogs and students and some of the students has 6 backlogs also"
   ]
  },
  {
   "cell_type": "code",
   "execution_count": null,
   "id": "e1f20f9d-057d-4905-b01d-931e1a7f6fa7",
   "metadata": {},
   "outputs": [],
   "source": [
    "h = df[\n",
    "    (df['DV'] == 20.0) |\n",
    "    (df['PP'] == 20.0) |\n",
    "    (df['M2'] == 20.0) |\n",
    "    (df['BEEE'] == 20.0) |\n",
    "    (df['FL'] == 20.0) |\n",
    "    (df['FIMS'] == 20.0)\n",
    "]\n",
    "h\n"
   ]
  },
  {
   "cell_type": "code",
   "execution_count": null,
   "id": "fddb76eb-c6a8-40f6-9ae8-3e3f0254ef4d",
   "metadata": {},
   "outputs": [],
   "source": [
    "h.value_counts(\"BC\")"
   ]
  },
  {
   "cell_type": "code",
   "execution_count": null,
   "id": "9ae72493-31d3-4b57-b2ce-fd116afd03c6",
   "metadata": {},
   "outputs": [],
   "source": [
    "h[h[\"BC\"] == 4]"
   ]
  },
  {
   "cell_type": "code",
   "execution_count": null,
   "id": "58c5d3a3-1732-4bf8-808e-a85b6d21fe90",
   "metadata": {},
   "outputs": [],
   "source": [
    "h[h[\"BC\"] == 3]"
   ]
  },
  {
   "cell_type": "code",
   "execution_count": null,
   "id": "3dc85003-e05b-4b5f-9348-4df854fe913e",
   "metadata": {},
   "outputs": [],
   "source": [
    "h.value_counts(\"DV\")"
   ]
  },
  {
   "cell_type": "code",
   "execution_count": null,
   "id": "0681211f-5a2c-48d3-b68c-54304b191e11",
   "metadata": {},
   "outputs": [],
   "source": [
    "h.value_counts(\"M2\")"
   ]
  },
  {
   "cell_type": "code",
   "execution_count": null,
   "id": "b7e43592-1c1c-4e02-8161-c3fcbf270325",
   "metadata": {},
   "outputs": [],
   "source": [
    "h.value_counts(\"BEEE\")"
   ]
  },
  {
   "cell_type": "code",
   "execution_count": null,
   "id": "8d1f115d-42b0-4585-a07e-778d1f7ed753",
   "metadata": {},
   "outputs": [],
   "source": [
    "h.value_counts(\"FIMS\")"
   ]
  },
  {
   "cell_type": "code",
   "execution_count": null,
   "id": "34fefc57-ceba-404a-a8b0-8f3da292cd81",
   "metadata": {},
   "outputs": [],
   "source": [
    "h.value_counts(\"PP\")"
   ]
  },
  {
   "cell_type": "code",
   "execution_count": null,
   "id": "5b3b87a9-47b7-4fb4-8567-fcceac1cb466",
   "metadata": {},
   "outputs": [],
   "source": [
    "h.value_counts(\"FL\")"
   ]
  },
  {
   "cell_type": "code",
   "execution_count": null,
   "id": "45443d89-260d-43b7-9258-0ae6f944a962",
   "metadata": {},
   "outputs": [],
   "source": [
    "h.describe()"
   ]
  },
  {
   "cell_type": "code",
   "execution_count": null,
   "id": "6a787a58-ebd2-46ac-8fba-b0e39055f0ad",
   "metadata": {},
   "outputs": [],
   "source": [
    "sns.histplot(data=df['BC'], bins=30, color = 'red')\n",
    "plt.show()"
   ]
  },
  {
   "cell_type": "code",
   "execution_count": null,
   "id": "82654903-59b0-42d4-a72a-fcc033e48027",
   "metadata": {},
   "outputs": [],
   "source": [
    "z=df.loc[(df['BC'] >= 3) & (df['BC'] <= 6)]\n",
    "z=z.reset_index()\n",
    "y = z.value_counts('BC')\n",
    "y\n"
   ]
  },
  {
   "cell_type": "code",
   "execution_count": null,
   "id": "2ef01bcf-8c8e-4a24-8fb5-8ee2e8f79195",
   "metadata": {},
   "outputs": [],
   "source": [
    "df[df[\"SECTION\"] == \"ALPHA\"].count()"
   ]
  },
  {
   "cell_type": "code",
   "execution_count": null,
   "id": "9b729675-b3a0-4e40-b4ea-269c527c3da8",
   "metadata": {},
   "outputs": [],
   "source": [
    "df['DV'] = pd.to_numeric(df['DV'], errors='coerce')\n",
    "df['M2'] = pd.to_numeric(df['M2'], errors='coerce')\n",
    "df['PP'] = pd.to_numeric(df['PP'], errors='coerce')\n",
    "df['BEEE'] = pd.to_numeric(df['BEEE'], errors='coerce')\n",
    "df['FL'] = pd.to_numeric(df['FL'], errors='coerce')\n",
    "df['FIMS'] = pd.to_numeric(df['FIMS'], errors='coerce')\n",
    "df.fillna(0, inplace=True)"
   ]
  },
  {
   "cell_type": "code",
   "execution_count": null,
   "id": "e8e3ca92-695a-4d93-8801-7a1ce5374ad3",
   "metadata": {},
   "outputs": [],
   "source": [
    "df.isnull().sum()"
   ]
  },
  {
   "cell_type": "code",
   "execution_count": null,
   "id": "6b3f411a-e1bf-49b0-8a6d-98462ea4e0de",
   "metadata": {},
   "outputs": [],
   "source": [
    "df"
   ]
  },
  {
   "cell_type": "code",
   "execution_count": null,
   "id": "177de4c0-4378-45dc-8bf5-b1a2fb9d41e0",
   "metadata": {},
   "outputs": [],
   "source": [
    "df['SECTION'] = df['SECTION'].fillna('SIGMA') \n",
    "df['SECTION'] = df['SECTION'].replace('', 'SIGMA')\n",
    "df"
   ]
  },
  {
   "cell_type": "code",
   "execution_count": null,
   "id": "9542ca2c-bc20-4bce-8bb6-bf6c5f739db9",
   "metadata": {},
   "outputs": [],
   "source": [
    "df['S.NO'] = range(1, len(df) + 1)\n",
    "df"
   ]
  },
  {
   "cell_type": "code",
   "execution_count": null,
   "id": "d9f112cd-a388-4eeb-a286-ad3655a2a08c",
   "metadata": {},
   "outputs": [],
   "source": [
    "df['FL'] = df['FL'].fillna(0) \n",
    "df=df.dropna()\n",
    "df"
   ]
  },
  {
   "cell_type": "code",
   "execution_count": null,
   "id": "6c8c2ef2-1e9c-4ddc-bec2-da2616114ed8",
   "metadata": {},
   "outputs": [],
   "source": [
    "df.shape"
   ]
  },
  {
   "cell_type": "code",
   "execution_count": null,
   "id": "60422f7f-03d3-4235-9e1b-fc63446643d6",
   "metadata": {},
   "outputs": [],
   "source": [
    "df['S.NO'] = range(1, len(df) + 1)\n",
    "df"
   ]
  },
  {
   "cell_type": "code",
   "execution_count": null,
   "id": "0ffed975-cef6-4b6c-bc59-eb277a23f63a",
   "metadata": {},
   "outputs": [],
   "source": [
    "df.shape"
   ]
  },
  {
   "cell_type": "code",
   "execution_count": null,
   "id": "50908580-33a5-40a3-af93-97b5414f848a",
   "metadata": {},
   "outputs": [],
   "source": [
    "df.isnull().sum()"
   ]
  },
  {
   "cell_type": "code",
   "execution_count": null,
   "id": "b46ab5fe-247c-4e91-90b2-a3848ce97e5f",
   "metadata": {},
   "outputs": [],
   "source": [
    "df.info"
   ]
  },
  {
   "cell_type": "code",
   "execution_count": null,
   "id": "2a3e0488-8cf3-45d4-911b-e4f511456af3",
   "metadata": {},
   "outputs": [],
   "source": [
    "df.describe()"
   ]
  },
  {
   "cell_type": "code",
   "execution_count": 36,
   "id": "1458ee6c-3694-43b8-abb7-542f510432de",
   "metadata": {},
   "outputs": [],
   "source": [
    "from scipy.stats import ttest_ind\n",
    "from scipy.stats import ttest_rel"
   ]
  },
  {
   "cell_type": "code",
   "execution_count": 37,
   "id": "1b5921b9-c9dc-495d-b61b-090570dc4d3e",
   "metadata": {},
   "outputs": [
    {
     "data": {
      "text/plain": [
       "Ttest_indResult(statistic=0.6207084248259586, pvalue=0.5355854399866022)"
      ]
     },
     "execution_count": 37,
     "metadata": {},
     "output_type": "execute_result"
    }
   ],
   "source": [
    "ttest_ind(df[df['SECTION'] == 'ALPHA']['DV'], df[df['SECTION']== 'BETA']['DV'])"
   ]
  },
  {
   "cell_type": "code",
   "execution_count": 38,
   "id": "d5ed1b71-6da6-481c-a696-22d2da8f4644",
   "metadata": {},
   "outputs": [
    {
     "data": {
      "text/plain": [
       "TtestResult(statistic=0.6677896583545824, pvalue=0.5059958752914141, df=89)"
      ]
     },
     "execution_count": 38,
     "metadata": {},
     "output_type": "execute_result"
    }
   ],
   "source": [
    "ttest_rel(df[df['SECTION'] == 'ALPHA']['DV'], df[df['SECTION']== 'BETA']['DV'])"
   ]
  },
  {
   "cell_type": "code",
   "execution_count": 39,
   "id": "27256dd9-e2a5-4187-a486-0bcb1787dbfa",
   "metadata": {},
   "outputs": [],
   "source": [
    "from scipy.stats import chi2_contingency"
   ]
  },
  {
   "cell_type": "code",
   "execution_count": 40,
   "id": "a0c650c9-8853-427d-93f9-6e5afb52b68e",
   "metadata": {},
   "outputs": [
    {
     "name": "stdout",
     "output_type": "stream",
     "text": [
      "135.02226175700022\n",
      "0.0011991006253874233\n",
      "89\n"
     ]
    }
   ],
   "source": [
    "data = (df[df['SECTION'] == 'ALPHA']['DV'], df[df['SECTION']== 'BETA']['DV'])\n",
    "stat, p, dof, expected = chi2_contingency(data)\n",
    "print(stat)\n",
    "print(p)\n",
    "print(dof)"
   ]
  },
  {
   "cell_type": "code",
   "execution_count": 41,
   "id": "5a122263-9dee-48b7-ae53-ae919a5bef0f",
   "metadata": {},
   "outputs": [
    {
     "data": {
      "text/plain": [
       "Chi2ContingencyResult(statistic=135.02226175700022, pvalue=0.0011991006253874233, dof=89, expected_freq=array([[14.72570467, 16.75683635, 14.72570467, 14.72570467, 15.23348759,\n",
       "        16.75683635, 11.67900715, 12.69457299,  8.12452671, 13.71013883,\n",
       "        13.71013883, 16.75683635, 13.20235591, 14.21792175, 18.28018511,\n",
       "        12.69457299, 12.18679007, 11.17122423, 12.18679007, 16.24905343,\n",
       "         6.09339504, 12.18679007, 16.75683635, 17.77240219, 13.20235591,\n",
       "        13.20235591, 15.23348759,  8.63230963, 14.21792175, 11.67900715,\n",
       "        10.66344131, 10.15565839, 13.71013883, 13.71013883, 16.75683635,\n",
       "         6.60117796, 11.17122423, 11.17122423, 15.23348759, 18.78796803,\n",
       "        17.26461927, 16.75683635, 18.28018511, 14.21792175, 17.26461927,\n",
       "        10.15565839, 15.23348759, 18.28018511, 13.20235591, 10.15565839,\n",
       "         6.09339504,  9.14009255, 16.75683635, 11.67900715, 17.26461927,\n",
       "        12.69457299, 11.17122423,  5.58561212, 13.20235591, 16.24905343,\n",
       "        17.77240219, 12.18679007, 15.23348759, 13.71013883, 11.17122423,\n",
       "        10.15565839, 13.71013883, 15.23348759, 15.74127051, 17.77240219,\n",
       "         5.58561212, 18.78796803, 10.15565839, 12.18679007, 16.24905343,\n",
       "        10.66344131, 16.75683635, 15.23348759, 18.28018511, 14.21792175,\n",
       "        19.80353387, 14.21792175,  4.57004628, 13.71013883, 11.67900715,\n",
       "         8.63230963, 11.67900715, 12.69457299,  9.14009255, 12.69457299],\n",
       "       [14.27429533, 16.24316365, 14.27429533, 14.27429533, 14.76651241,\n",
       "        16.24316365, 11.32099285, 12.30542701,  7.87547329, 13.28986117,\n",
       "        13.28986117, 16.24316365, 12.79764409, 13.78207825, 17.71981489,\n",
       "        12.30542701, 11.81320993, 10.82877577, 11.81320993, 15.75094657,\n",
       "         5.90660496, 11.81320993, 16.24316365, 17.22759781, 12.79764409,\n",
       "        12.79764409, 14.76651241,  8.36769037, 13.78207825, 11.32099285,\n",
       "        10.33655869,  9.84434161, 13.28986117, 13.28986117, 16.24316365,\n",
       "         6.39882204, 10.82877577, 10.82877577, 14.76651241, 18.21203197,\n",
       "        16.73538073, 16.24316365, 17.71981489, 13.78207825, 16.73538073,\n",
       "         9.84434161, 14.76651241, 17.71981489, 12.79764409,  9.84434161,\n",
       "         5.90660496,  8.85990745, 16.24316365, 11.32099285, 16.73538073,\n",
       "        12.30542701, 10.82877577,  5.41438788, 12.79764409, 15.75094657,\n",
       "        17.22759781, 11.81320993, 14.76651241, 13.28986117, 10.82877577,\n",
       "         9.84434161, 13.28986117, 14.76651241, 15.25872949, 17.22759781,\n",
       "         5.41438788, 18.21203197,  9.84434161, 11.81320993, 15.75094657,\n",
       "        10.33655869, 16.24316365, 14.76651241, 17.71981489, 13.78207825,\n",
       "        19.19646613, 13.78207825,  4.42995372, 13.28986117, 11.32099285,\n",
       "         8.36769037, 11.32099285, 12.30542701,  8.85990745, 12.30542701]]))"
      ]
     },
     "execution_count": 41,
     "metadata": {},
     "output_type": "execute_result"
    }
   ],
   "source": [
    "data = (df[df['SECTION'] == 'ALPHA']['DV'], df[df['SECTION']== 'BETA']['DV'])\n",
    "stat, p, dof, expected = chi2_contingency(data)\n",
    "chi2_contingency(data)"
   ]
  },
  {
   "cell_type": "code",
   "execution_count": 42,
   "id": "f7cfae75-463d-4605-b391-742709949796",
   "metadata": {},
   "outputs": [
    {
     "data": {
      "text/plain": [
       "13.411111111111111"
      ]
     },
     "execution_count": 42,
     "metadata": {},
     "output_type": "execute_result"
    }
   ],
   "source": [
    "df[df['SECTION'] == 'ALPHA'].DV.mean()"
   ]
  },
  {
   "cell_type": "code",
   "execution_count": 43,
   "id": "0832d405-a403-47d6-be90-fb1d41c07133",
   "metadata": {},
   "outputs": [],
   "source": [
    "import scipy.stats as stats"
   ]
  },
  {
   "cell_type": "code",
   "execution_count": 44,
   "id": "0085f3a5-af9c-4835-93a9-3221f97de801",
   "metadata": {},
   "outputs": [
    {
     "name": "stdout",
     "output_type": "stream",
     "text": [
      "-2.616154646179782 0.010446384280899498\n"
     ]
    }
   ],
   "source": [
    "t_statistic, p_value = stats.ttest_1samp(df[df['SECTION'] == 'ALPHA']['DV'] , df.DV.mean())\n",
    "print(t_statistic, p_value)"
   ]
  },
  {
   "cell_type": "code",
   "execution_count": 45,
   "id": "cdcd9f3d-91b4-4ec9-a0b1-2a0e5b8483ee",
   "metadata": {},
   "outputs": [
    {
     "name": "stdout",
     "output_type": "stream",
     "text": [
      "-4.444375088320685 2.5314931787997426e-05\n"
     ]
    }
   ],
   "source": [
    "t_statistic, p_value = stats.ttest_1samp(df[df['SECTION'] == 'BETA']['DV'] , df.DV.mean())\n",
    "print(t_statistic, p_value)"
   ]
  },
  {
   "cell_type": "code",
   "execution_count": 46,
   "id": "02115caa-979e-4033-920b-cc92cb86bf6f",
   "metadata": {},
   "outputs": [
    {
     "name": "stdout",
     "output_type": "stream",
     "text": [
      "0.044413529739783554 0.9646742748333578\n"
     ]
    }
   ],
   "source": [
    "t_statistic, p_value = stats.ttest_1samp(df[df['SECTION'] == 'GAMMA']['DV'] , df.DV.mean())\n",
    "print(t_statistic, p_value)"
   ]
  },
  {
   "cell_type": "code",
   "execution_count": 47,
   "id": "6b45336a-0e6d-41e5-ae1e-27828b728338",
   "metadata": {},
   "outputs": [
    {
     "name": "stdout",
     "output_type": "stream",
     "text": [
      "-2.027862439583779 0.04556465252959875\n"
     ]
    }
   ],
   "source": [
    "t_statistic, p_value = stats.ttest_1samp(df[df['SECTION'] == 'DELTA']['DV'] , df.DV.mean())\n",
    "print(t_statistic, p_value)"
   ]
  },
  {
   "cell_type": "code",
   "execution_count": 48,
   "id": "11fe55cd-75c2-4d9d-acf3-cc2e1cfd4bc3",
   "metadata": {},
   "outputs": [
    {
     "name": "stdout",
     "output_type": "stream",
     "text": [
      "2.1970891021844485 0.03182248126687924\n"
     ]
    }
   ],
   "source": [
    "t_statistic, p_value = stats.ttest_1samp(df[df['SECTION'] == 'SIGMA']['DV'] , df.DV.mean())\n",
    "print(t_statistic, p_value)"
   ]
  },
  {
   "cell_type": "code",
   "execution_count": 49,
   "id": "ebf8d839-cf25-421f-95ff-5cb63e77af33",
   "metadata": {},
   "outputs": [
    {
     "name": "stdout",
     "output_type": "stream",
     "text": [
      "1.969165001782562 0.051339235006369915\n"
     ]
    }
   ],
   "source": [
    "t_statistic, p_value = stats.ttest_1samp(df[df['SECTION'] == 'ZETA']['DV'] , df.DV.mean())\n",
    "print(t_statistic, p_value)"
   ]
  },
  {
   "cell_type": "code",
   "execution_count": 50,
   "id": "41ee1e46-6216-480b-8b92-353c647200af",
   "metadata": {},
   "outputs": [
    {
     "name": "stdout",
     "output_type": "stream",
     "text": [
      "3.2903789429100354 0.0014349291303171465\n"
     ]
    }
   ],
   "source": [
    "t_statistic, p_value = stats.ttest_1samp(df[df['SECTION'] == 'OMEGA']['DV'] , df.DV.mean())\n",
    "print(t_statistic, p_value)"
   ]
  },
  {
   "cell_type": "code",
   "execution_count": 51,
   "id": "4031322e-72b9-4809-9e64-81008531ba1a",
   "metadata": {},
   "outputs": [
    {
     "name": "stdout",
     "output_type": "stream",
     "text": [
      "1.218862767982525 0.22619090688375254\n"
     ]
    }
   ],
   "source": [
    "t_statistic, p_value = stats.ttest_1samp(df[df['SECTION'] == 'EPSILON']['DV'] , df.DV.mean())\n",
    "print(t_statistic, p_value)"
   ]
  },
  {
   "cell_type": "code",
   "execution_count": 52,
   "id": "cf2d79bd-ef5f-4e65-a84c-138cf0ca4e4f",
   "metadata": {},
   "outputs": [
    {
     "data": {
      "text/html": [
       "<div>\n",
       "<style scoped>\n",
       "    .dataframe tbody tr th:only-of-type {\n",
       "        vertical-align: middle;\n",
       "    }\n",
       "\n",
       "    .dataframe tbody tr th {\n",
       "        vertical-align: top;\n",
       "    }\n",
       "\n",
       "    .dataframe thead th {\n",
       "        text-align: right;\n",
       "    }\n",
       "</style>\n",
       "<table border=\"1\" class=\"dataframe\">\n",
       "  <thead>\n",
       "    <tr style=\"text-align: right;\">\n",
       "      <th></th>\n",
       "      <th>S.NO</th>\n",
       "      <th>DV</th>\n",
       "      <th>M2</th>\n",
       "      <th>PP</th>\n",
       "      <th>BEEE</th>\n",
       "      <th>FL</th>\n",
       "      <th>FIMS</th>\n",
       "      <th>Total</th>\n",
       "    </tr>\n",
       "  </thead>\n",
       "  <tbody>\n",
       "    <tr>\n",
       "      <th>count</th>\n",
       "      <td>716.000000</td>\n",
       "      <td>716.000000</td>\n",
       "      <td>716.000000</td>\n",
       "      <td>716.000000</td>\n",
       "      <td>716.000000</td>\n",
       "      <td>716.000000</td>\n",
       "      <td>716.000000</td>\n",
       "      <td>716.000000</td>\n",
       "    </tr>\n",
       "    <tr>\n",
       "      <th>mean</th>\n",
       "      <td>358.874302</td>\n",
       "      <td>14.787709</td>\n",
       "      <td>9.949721</td>\n",
       "      <td>12.769553</td>\n",
       "      <td>13.287709</td>\n",
       "      <td>15.544693</td>\n",
       "      <td>14.047486</td>\n",
       "      <td>80.386872</td>\n",
       "    </tr>\n",
       "    <tr>\n",
       "      <th>std</th>\n",
       "      <td>207.361522</td>\n",
       "      <td>4.569545</td>\n",
       "      <td>6.599236</td>\n",
       "      <td>5.817381</td>\n",
       "      <td>5.783112</td>\n",
       "      <td>4.476132</td>\n",
       "      <td>4.709815</td>\n",
       "      <td>25.335341</td>\n",
       "    </tr>\n",
       "    <tr>\n",
       "      <th>min</th>\n",
       "      <td>1.000000</td>\n",
       "      <td>0.000000</td>\n",
       "      <td>0.000000</td>\n",
       "      <td>0.000000</td>\n",
       "      <td>0.000000</td>\n",
       "      <td>0.000000</td>\n",
       "      <td>0.000000</td>\n",
       "      <td>0.000000</td>\n",
       "    </tr>\n",
       "    <tr>\n",
       "      <th>25%</th>\n",
       "      <td>179.750000</td>\n",
       "      <td>12.000000</td>\n",
       "      <td>4.000000</td>\n",
       "      <td>9.000000</td>\n",
       "      <td>9.000000</td>\n",
       "      <td>13.000000</td>\n",
       "      <td>12.000000</td>\n",
       "      <td>64.000000</td>\n",
       "    </tr>\n",
       "    <tr>\n",
       "      <th>50%</th>\n",
       "      <td>358.500000</td>\n",
       "      <td>16.000000</td>\n",
       "      <td>10.000000</td>\n",
       "      <td>14.000000</td>\n",
       "      <td>15.000000</td>\n",
       "      <td>16.000000</td>\n",
       "      <td>15.000000</td>\n",
       "      <td>84.000000</td>\n",
       "    </tr>\n",
       "    <tr>\n",
       "      <th>75%</th>\n",
       "      <td>537.250000</td>\n",
       "      <td>18.000000</td>\n",
       "      <td>16.000000</td>\n",
       "      <td>18.000000</td>\n",
       "      <td>18.000000</td>\n",
       "      <td>20.000000</td>\n",
       "      <td>18.000000</td>\n",
       "      <td>101.000000</td>\n",
       "    </tr>\n",
       "    <tr>\n",
       "      <th>max</th>\n",
       "      <td>718.000000</td>\n",
       "      <td>20.000000</td>\n",
       "      <td>20.000000</td>\n",
       "      <td>20.000000</td>\n",
       "      <td>20.000000</td>\n",
       "      <td>20.000000</td>\n",
       "      <td>20.000000</td>\n",
       "      <td>120.000000</td>\n",
       "    </tr>\n",
       "  </tbody>\n",
       "</table>\n",
       "</div>"
      ],
      "text/plain": [
       "             S.NO          DV          M2          PP        BEEE          FL  \\\n",
       "count  716.000000  716.000000  716.000000  716.000000  716.000000  716.000000   \n",
       "mean   358.874302   14.787709    9.949721   12.769553   13.287709   15.544693   \n",
       "std    207.361522    4.569545    6.599236    5.817381    5.783112    4.476132   \n",
       "min      1.000000    0.000000    0.000000    0.000000    0.000000    0.000000   \n",
       "25%    179.750000   12.000000    4.000000    9.000000    9.000000   13.000000   \n",
       "50%    358.500000   16.000000   10.000000   14.000000   15.000000   16.000000   \n",
       "75%    537.250000   18.000000   16.000000   18.000000   18.000000   20.000000   \n",
       "max    718.000000   20.000000   20.000000   20.000000   20.000000   20.000000   \n",
       "\n",
       "             FIMS       Total  \n",
       "count  716.000000  716.000000  \n",
       "mean    14.047486   80.386872  \n",
       "std      4.709815   25.335341  \n",
       "min      0.000000    0.000000  \n",
       "25%     12.000000   64.000000  \n",
       "50%     15.000000   84.000000  \n",
       "75%     18.000000  101.000000  \n",
       "max     20.000000  120.000000  "
      ]
     },
     "execution_count": 52,
     "metadata": {},
     "output_type": "execute_result"
    }
   ],
   "source": [
    "df.describe()\n"
   ]
  },
  {
   "cell_type": "code",
   "execution_count": 53,
   "id": "9a69aafa",
   "metadata": {},
   "outputs": [
    {
     "data": {
      "text/plain": [
       "5.991464547107979"
      ]
     },
     "execution_count": 53,
     "metadata": {},
     "output_type": "execute_result"
    }
   ],
   "source": [
    "df = 2\n",
    "alpha = 0.05\n",
    "\n",
    "critical_value = stats.chi2.ppf(1 - alpha, df)\n",
    "critical_value"
   ]
  },
  {
   "cell_type": "code",
   "execution_count": 54,
   "id": "02b6c881",
   "metadata": {},
   "outputs": [
    {
     "data": {
      "image/png": "[encoded data removed]",
      "text/plain": [
       "<Figure size 640x480 with 1 Axes>"
      ]
     },
     "metadata": {},
     "output_type": "display_data"
    }
   ],
   "source": [
    "import numpy as np\n",
    "import matplotlib.pyplot as plt\n",
    "import scipy.stats as stats\n",
    "\n",
    "df = 2\n",
    "alpha = 0.05\n",
    "critical_value = stats.chi2.ppf(1 - alpha, df)\n",
    "calculated_chi_square = 3.747\n",
    "\n",
    "x = np.linspace(0, 10, 1000)\n",
    "y = stats.chi2.pdf(x, df)\n",
    "\n",
    "plt.plot(x, y, label='Chi-Square Distribution (df=2)')\n",
    "plt.fill_between(x, y, where=(x > critical_value), color='red', alpha=0.5, label='Critical Region')\n",
    "plt.axvline(calculated_chi_square, color='blue', linestyle='dashed', label='Calculated Chi-Square')\n",
    "plt.axvline(critical_value, color='green', linestyle='dashed', label='Critical Value')\n",
    "plt.title('Chi-Square Distribution and Critical Region')\n",
    "plt.xlabel('Chi-Square Value')\n",
    "plt.ylabel('Probability Density Function')\n",
    "plt.legend()\n",
    "plt.show()\n"
   ]
  },
  {
   "cell_type": "code",
   "execution_count": null,
   "id": "b7750f7b",
   "metadata": {},
   "outputs": [],
   "source": []
  }
 ],
 "metadata": {
  "kernelspec": {
   "display_name": "Python 3 (ipykernel)",
   "language": "python",
   "name": "python3"
  },
  "language_info": {
   "codemirror_mode": {
    "name": "ipython",
    "version": 3
   },
   "file_extension": ".py",
   "mimetype": "text/x-python",
   "name": "python",
   "nbconvert_exporter": "python",
   "pygments_lexer": "ipython3",
   "version": "3.10.9"
  }
 },
 "nbformat": 4,
 "nbformat_minor": 5
}
